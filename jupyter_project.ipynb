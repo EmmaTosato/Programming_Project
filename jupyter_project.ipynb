{
 "cells": [
  {
   "attachments": {},
   "cell_type": "markdown",
   "metadata": {},
   "source": [
    "# Mental Health in Tech Workplaces\n",
    "Project for \"Programming for Data Science\""
   ]
  },
  {
   "cell_type": "code",
   "execution_count": 194,
   "metadata": {},
   "outputs": [],
   "source": [
    "import pandas as pd\n",
    "import numpy as np\n",
    "import matplotlib.pyplot as plt\n",
    "from matplotlib.patches import ConnectionPatch\n",
    "from matplotlib import colors as mcolors\n",
    "import seaborn as sb\n",
    "import streamlit as st\n",
    "from sklearn import preprocessing\n"
   ]
  },
  {
   "attachments": {},
   "cell_type": "markdown",
   "metadata": {},
   "source": [
    "## Context"
   ]
  },
  {
   "attachments": {},
   "cell_type": "markdown",
   "metadata": {},
   "source": [
    "This dataset is from a 2014 survey that measures attitudes towards mental health and frequency of mental health disorders in the tech workplace. The organization that has collected this data is the \"Open Sourcing Mental Health\" organization (OSMH).\n",
    "\n",
    "Open Sourcing Mental Health is a non-profit, corporation dedicated to raising awareness, educating, and providing resources to support mental wellness in the tech and open source communities."
   ]
  },
  {
   "attachments": {},
   "cell_type": "markdown",
   "metadata": {},
   "source": [
    "## Exploration and cleaning of the dataset"
   ]
  },
  {
   "attachments": {},
   "cell_type": "markdown",
   "metadata": {},
   "source": [
    "### The dataset"
   ]
  },
  {
   "cell_type": "code",
   "execution_count": 162,
   "metadata": {},
   "outputs": [],
   "source": [
    "mental_health_df = pd.read_csv('https://raw.githubusercontent.com/EmmaTosato/Programming_Project/main/survey.csv')"
   ]
  },
  {
   "attachments": {},
   "cell_type": "markdown",
   "metadata": {},
   "source": [
    "### Useful informations"
   ]
  },
  {
   "attachments": {},
   "cell_type": "markdown",
   "metadata": {},
   "source": [
    "- In this dataset there are 1259 rows and 27 columnes (attributes)\n",
    "\n",
    "- The age column has integer values\n",
    "\n",
    "- All the other attribitues have object values"
   ]
  },
  {
   "cell_type": "code",
   "execution_count": 163,
   "metadata": {},
   "outputs": [
    {
     "name": "stdout",
     "output_type": "stream",
     "text": [
      "<class 'pandas.core.frame.DataFrame'>\n",
      "RangeIndex: 1259 entries, 0 to 1258\n",
      "Data columns (total 27 columns):\n",
      " #   Column                     Non-Null Count  Dtype \n",
      "---  ------                     --------------  ----- \n",
      " 0   Timestamp                  1259 non-null   object\n",
      " 1   Age                        1259 non-null   int64 \n",
      " 2   Gender                     1259 non-null   object\n",
      " 3   Country                    1259 non-null   object\n",
      " 4   state                      744 non-null    object\n",
      " 5   self_employed              1241 non-null   object\n",
      " 6   family_history             1259 non-null   object\n",
      " 7   treatment                  1259 non-null   object\n",
      " 8   work_interfere             995 non-null    object\n",
      " 9   no_employees               1259 non-null   object\n",
      " 10  remote_work                1259 non-null   object\n",
      " 11  tech_company               1259 non-null   object\n",
      " 12  benefits                   1259 non-null   object\n",
      " 13  care_options               1259 non-null   object\n",
      " 14  wellness_program           1259 non-null   object\n",
      " 15  seek_help                  1259 non-null   object\n",
      " 16  anonymity                  1259 non-null   object\n",
      " 17  leave                      1259 non-null   object\n",
      " 18  mental_health_consequence  1259 non-null   object\n",
      " 19  phys_health_consequence    1259 non-null   object\n",
      " 20  coworkers                  1259 non-null   object\n",
      " 21  supervisor                 1259 non-null   object\n",
      " 22  mental_health_interview    1259 non-null   object\n",
      " 23  phys_health_interview      1259 non-null   object\n",
      " 24  mental_vs_physical         1259 non-null   object\n",
      " 25  obs_consequence            1259 non-null   object\n",
      " 26  comments                   164 non-null    object\n",
      "dtypes: int64(1), object(26)\n",
      "memory usage: 265.7+ KB\n"
     ]
    }
   ],
   "source": [
    "mental_health_df.info()"
   ]
  },
  {
   "attachments": {},
   "cell_type": "markdown",
   "metadata": {},
   "source": [
    "### Meaning of the columns"
   ]
  },
  {
   "attachments": {},
   "cell_type": "markdown",
   "metadata": {},
   "source": [
    "\n",
    "The first 4 columns (2 to 5) concern general informations about the individuals. Every attribute contains answers to a specific question.\n",
    "\n",
    "* **Timestamp:** contains date, month, year and time\n",
    "\n",
    "* **Age**\n",
    "\n",
    "* **Gender**\n",
    "\n",
    "* **Country**\n",
    "\n",
    "* **state:** If you live in the United States, which state or territory do you live in?\n",
    "\n",
    "* **self_employed:** Are you self-employed?\n",
    "\n",
    "* **family_history:** Do you have a family history of mental illness?\n",
    "\n",
    "* **treatment:** Have you sought treatment for a mental health condition?\n",
    "\n",
    "* **work_interfere:** If you have a mental health condition, do you feel that it interferes with your work?\n",
    "\n",
    "* **no_employees:** How many employees does your company or organization have?\n",
    "\n",
    "* **remote_work:** Do you work remotely (outside of an office) at least 50% of the time?\n",
    "\n",
    "* **tech_company:** Is your employer primarily a tech company/organization?\n",
    "\n",
    "* **benefits:** Does your employer provide mental health benefits?\n",
    "\n",
    "* **care_options:** Do you know the options for mental health care your employer provides?\n",
    "\n",
    "* **wellness_program:** Has your employer ever discussed mental health as part of an employee wellness program?\n",
    "\n",
    "* **seek_help:** Does your employer provide resources to learn more about mental health issues and how to seek help?\n",
    "\n",
    "* **anonymity:** Is your anonymity protected if you choose to take advantage of mental health or substance abuse treatment resources?\n",
    "\n",
    "* **leave:** How easy is it for you to take medical leave for a mental health condition?\n",
    "\n",
    "* **mentalhealthconsequence:** Do you think that discussing a mental health issue with your employer would have negative consequences?\n",
    "\n",
    "* **physhealthconsequence:** Do you think that discussing a physical health issue with your employer would have negative consequences?\n",
    "\n",
    "* **coworkers:** Would you be willing to discuss a mental health issue with your coworkers?\n",
    "\n",
    "* **physhealthinterview:** Would you bring up a physical health issue with a potential employer in an interview?\n",
    "\n",
    "* **mentalvsphysical:** Do you feel that your employer takes mental health as seriously as physical health?\n",
    "\n",
    "* **obs_consequence:** Have you heard of or observed negative consequences for coworkers with mental health conditions in your workplace?\n",
    "\n",
    "* **comments:** Any additional notes or comments\n"
   ]
  },
  {
   "cell_type": "code",
   "execution_count": 164,
   "metadata": {},
   "outputs": [
    {
     "data": {
      "text/html": [
       "<div>\n",
       "<style scoped>\n",
       "    .dataframe tbody tr th:only-of-type {\n",
       "        vertical-align: middle;\n",
       "    }\n",
       "\n",
       "    .dataframe tbody tr th {\n",
       "        vertical-align: top;\n",
       "    }\n",
       "\n",
       "    .dataframe thead th {\n",
       "        text-align: right;\n",
       "    }\n",
       "</style>\n",
       "<table border=\"1\" class=\"dataframe\">\n",
       "  <thead>\n",
       "    <tr style=\"text-align: right;\">\n",
       "      <th></th>\n",
       "      <th>Timestamp</th>\n",
       "      <th>Age</th>\n",
       "      <th>Gender</th>\n",
       "      <th>Country</th>\n",
       "      <th>state</th>\n",
       "      <th>self_employed</th>\n",
       "      <th>family_history</th>\n",
       "      <th>treatment</th>\n",
       "      <th>work_interfere</th>\n",
       "      <th>no_employees</th>\n",
       "      <th>...</th>\n",
       "      <th>leave</th>\n",
       "      <th>mental_health_consequence</th>\n",
       "      <th>phys_health_consequence</th>\n",
       "      <th>coworkers</th>\n",
       "      <th>supervisor</th>\n",
       "      <th>mental_health_interview</th>\n",
       "      <th>phys_health_interview</th>\n",
       "      <th>mental_vs_physical</th>\n",
       "      <th>obs_consequence</th>\n",
       "      <th>comments</th>\n",
       "    </tr>\n",
       "  </thead>\n",
       "  <tbody>\n",
       "    <tr>\n",
       "      <th>0</th>\n",
       "      <td>2014-08-27 11:29:31</td>\n",
       "      <td>37</td>\n",
       "      <td>Female</td>\n",
       "      <td>United States</td>\n",
       "      <td>IL</td>\n",
       "      <td>NaN</td>\n",
       "      <td>No</td>\n",
       "      <td>Yes</td>\n",
       "      <td>Often</td>\n",
       "      <td>6-25</td>\n",
       "      <td>...</td>\n",
       "      <td>Somewhat easy</td>\n",
       "      <td>No</td>\n",
       "      <td>No</td>\n",
       "      <td>Some of them</td>\n",
       "      <td>Yes</td>\n",
       "      <td>No</td>\n",
       "      <td>Maybe</td>\n",
       "      <td>Yes</td>\n",
       "      <td>No</td>\n",
       "      <td>NaN</td>\n",
       "    </tr>\n",
       "    <tr>\n",
       "      <th>1</th>\n",
       "      <td>2014-08-27 11:29:37</td>\n",
       "      <td>44</td>\n",
       "      <td>M</td>\n",
       "      <td>United States</td>\n",
       "      <td>IN</td>\n",
       "      <td>NaN</td>\n",
       "      <td>No</td>\n",
       "      <td>No</td>\n",
       "      <td>Rarely</td>\n",
       "      <td>More than 1000</td>\n",
       "      <td>...</td>\n",
       "      <td>Don't know</td>\n",
       "      <td>Maybe</td>\n",
       "      <td>No</td>\n",
       "      <td>No</td>\n",
       "      <td>No</td>\n",
       "      <td>No</td>\n",
       "      <td>No</td>\n",
       "      <td>Don't know</td>\n",
       "      <td>No</td>\n",
       "      <td>NaN</td>\n",
       "    </tr>\n",
       "    <tr>\n",
       "      <th>2</th>\n",
       "      <td>2014-08-27 11:29:44</td>\n",
       "      <td>32</td>\n",
       "      <td>Male</td>\n",
       "      <td>Canada</td>\n",
       "      <td>NaN</td>\n",
       "      <td>NaN</td>\n",
       "      <td>No</td>\n",
       "      <td>No</td>\n",
       "      <td>Rarely</td>\n",
       "      <td>6-25</td>\n",
       "      <td>...</td>\n",
       "      <td>Somewhat difficult</td>\n",
       "      <td>No</td>\n",
       "      <td>No</td>\n",
       "      <td>Yes</td>\n",
       "      <td>Yes</td>\n",
       "      <td>Yes</td>\n",
       "      <td>Yes</td>\n",
       "      <td>No</td>\n",
       "      <td>No</td>\n",
       "      <td>NaN</td>\n",
       "    </tr>\n",
       "    <tr>\n",
       "      <th>3</th>\n",
       "      <td>2014-08-27 11:29:46</td>\n",
       "      <td>31</td>\n",
       "      <td>Male</td>\n",
       "      <td>United Kingdom</td>\n",
       "      <td>NaN</td>\n",
       "      <td>NaN</td>\n",
       "      <td>Yes</td>\n",
       "      <td>Yes</td>\n",
       "      <td>Often</td>\n",
       "      <td>26-100</td>\n",
       "      <td>...</td>\n",
       "      <td>Somewhat difficult</td>\n",
       "      <td>Yes</td>\n",
       "      <td>Yes</td>\n",
       "      <td>Some of them</td>\n",
       "      <td>No</td>\n",
       "      <td>Maybe</td>\n",
       "      <td>Maybe</td>\n",
       "      <td>No</td>\n",
       "      <td>Yes</td>\n",
       "      <td>NaN</td>\n",
       "    </tr>\n",
       "    <tr>\n",
       "      <th>4</th>\n",
       "      <td>2014-08-27 11:30:22</td>\n",
       "      <td>31</td>\n",
       "      <td>Male</td>\n",
       "      <td>United States</td>\n",
       "      <td>TX</td>\n",
       "      <td>NaN</td>\n",
       "      <td>No</td>\n",
       "      <td>No</td>\n",
       "      <td>Never</td>\n",
       "      <td>100-500</td>\n",
       "      <td>...</td>\n",
       "      <td>Don't know</td>\n",
       "      <td>No</td>\n",
       "      <td>No</td>\n",
       "      <td>Some of them</td>\n",
       "      <td>Yes</td>\n",
       "      <td>Yes</td>\n",
       "      <td>Yes</td>\n",
       "      <td>Don't know</td>\n",
       "      <td>No</td>\n",
       "      <td>NaN</td>\n",
       "    </tr>\n",
       "  </tbody>\n",
       "</table>\n",
       "<p>5 rows × 27 columns</p>\n",
       "</div>"
      ],
      "text/plain": [
       "             Timestamp  Age  Gender         Country state self_employed  \\\n",
       "0  2014-08-27 11:29:31   37  Female   United States    IL           NaN   \n",
       "1  2014-08-27 11:29:37   44       M   United States    IN           NaN   \n",
       "2  2014-08-27 11:29:44   32    Male          Canada   NaN           NaN   \n",
       "3  2014-08-27 11:29:46   31    Male  United Kingdom   NaN           NaN   \n",
       "4  2014-08-27 11:30:22   31    Male   United States    TX           NaN   \n",
       "\n",
       "  family_history treatment work_interfere    no_employees  ...  \\\n",
       "0             No       Yes          Often            6-25  ...   \n",
       "1             No        No         Rarely  More than 1000  ...   \n",
       "2             No        No         Rarely            6-25  ...   \n",
       "3            Yes       Yes          Often          26-100  ...   \n",
       "4             No        No          Never         100-500  ...   \n",
       "\n",
       "                leave mental_health_consequence phys_health_consequence  \\\n",
       "0       Somewhat easy                        No                      No   \n",
       "1          Don't know                     Maybe                      No   \n",
       "2  Somewhat difficult                        No                      No   \n",
       "3  Somewhat difficult                       Yes                     Yes   \n",
       "4          Don't know                        No                      No   \n",
       "\n",
       "      coworkers supervisor mental_health_interview phys_health_interview  \\\n",
       "0  Some of them        Yes                      No                 Maybe   \n",
       "1            No         No                      No                    No   \n",
       "2           Yes        Yes                     Yes                   Yes   \n",
       "3  Some of them         No                   Maybe                 Maybe   \n",
       "4  Some of them        Yes                     Yes                   Yes   \n",
       "\n",
       "  mental_vs_physical obs_consequence comments  \n",
       "0                Yes              No      NaN  \n",
       "1         Don't know              No      NaN  \n",
       "2                 No              No      NaN  \n",
       "3                 No             Yes      NaN  \n",
       "4         Don't know              No      NaN  \n",
       "\n",
       "[5 rows x 27 columns]"
      ]
     },
     "execution_count": 164,
     "metadata": {},
     "output_type": "execute_result"
    }
   ],
   "source": [
    "mental_health_df.head()"
   ]
  },
  {
   "attachments": {},
   "cell_type": "markdown",
   "metadata": {},
   "source": [
    "Here i converting the column's name to lowercase characters. In this way, manipulating the columns becomes easier."
   ]
  },
  {
   "cell_type": "code",
   "execution_count": 165,
   "metadata": {},
   "outputs": [],
   "source": [
    "mental_health_df.columns = mental_health_df.columns.map(str.lower)"
   ]
  },
  {
   "attachments": {},
   "cell_type": "markdown",
   "metadata": {},
   "source": [
    "### Dropping columns   "
   ]
  },
  {
   "attachments": {},
   "cell_type": "markdown",
   "metadata": {},
   "source": [
    "- Dropping the *timestamp* column because it isn't useful for the survey \n",
    "\n",
    "- Check how many null values in each columns\n",
    "\n",
    "- Dropping the *comments* column because the are 1095 null values out of 1259 entries \n",
    "\n"
   ]
  },
  {
   "cell_type": "code",
   "execution_count": 166,
   "metadata": {},
   "outputs": [
    {
     "data": {
      "text/plain": [
       "timestamp                       0\n",
       "age                             0\n",
       "gender                          0\n",
       "country                         0\n",
       "state                         515\n",
       "self_employed                  18\n",
       "family_history                  0\n",
       "treatment                       0\n",
       "work_interfere                264\n",
       "no_employees                    0\n",
       "remote_work                     0\n",
       "tech_company                    0\n",
       "benefits                        0\n",
       "care_options                    0\n",
       "wellness_program                0\n",
       "seek_help                       0\n",
       "anonymity                       0\n",
       "leave                           0\n",
       "mental_health_consequence       0\n",
       "phys_health_consequence         0\n",
       "coworkers                       0\n",
       "supervisor                      0\n",
       "mental_health_interview         0\n",
       "phys_health_interview           0\n",
       "mental_vs_physical              0\n",
       "obs_consequence                 0\n",
       "comments                     1095\n",
       "dtype: int64"
      ]
     },
     "execution_count": 166,
     "metadata": {},
     "output_type": "execute_result"
    }
   ],
   "source": [
    "mental_health_df.isnull().sum()"
   ]
  },
  {
   "cell_type": "code",
   "execution_count": 167,
   "metadata": {},
   "outputs": [],
   "source": [
    "mental_health_df.drop(columns=['timestamp', 'comments'], inplace = True)"
   ]
  },
  {
   "attachments": {},
   "cell_type": "markdown",
   "metadata": {},
   "source": [
    "- In the *state* column the are too many null values, since there are only USA's stat Even if we focus only on the USA, there are too few people for many states. Thus it would be misleading to say that a certain state is prone to cases of mental illness.\n",
    "\n",
    "- For these reasons, the column has to be dropped."
   ]
  },
  {
   "cell_type": "code",
   "execution_count": 168,
   "metadata": {},
   "outputs": [
    {
     "data": {
      "text/plain": [
       "CA    138\n",
       "WA     70\n",
       "NY     57\n",
       "TN     45\n",
       "TX     44\n",
       "OH     30\n",
       "IL     29\n",
       "OR     29\n",
       "PA     29\n",
       "IN     27\n",
       "MI     22\n",
       "MN     21\n",
       "MA     20\n",
       "FL     15\n",
       "NC     14\n",
       "VA     14\n",
       "WI     12\n",
       "GA     12\n",
       "MO     12\n",
       "UT     11\n",
       "CO      9\n",
       "MD      8\n",
       "AL      8\n",
       "AZ      7\n",
       "OK      6\n",
       "NJ      6\n",
       "KY      5\n",
       "SC      5\n",
       "IA      4\n",
       "CT      4\n",
       "DC      4\n",
       "NV      3\n",
       "VT      3\n",
       "SD      3\n",
       "KS      3\n",
       "NH      3\n",
       "WY      2\n",
       "NM      2\n",
       "NE      2\n",
       "WV      1\n",
       "ID      1\n",
       "MS      1\n",
       "RI      1\n",
       "LA      1\n",
       "ME      1\n",
       "Name: state, dtype: int64"
      ]
     },
     "execution_count": 168,
     "metadata": {},
     "output_type": "execute_result"
    }
   ],
   "source": [
    "mental_health_df['state'].value_counts()"
   ]
  },
  {
   "attachments": {},
   "cell_type": "markdown",
   "metadata": {},
   "source": [
    "Here I want to highlight some important elements about the *countries* column \n",
    "- Since almost the 60% percent of the people come from USA (and the 5% from Canada), making certain assumptions about the data by referring to the country of origin could be risky. As in the previus case, we can't say that a country has more case of mental ilness, because the numbers of respondents across countries aren't uniform. \n",
    "\n",
    "- I filtered the European countries, in order to have a comparison with the USA. \n",
    "\n",
    "- Therfore, selecting only European countries, we can see that the majority of the individuals come from UK. Considering all the other countries (both european and non), there are many that have only one exponent. As before, this variety could be misleading. \n",
    "\n",
    "However, keeping in mind this considerations, this column may be useful in some analyses."
   ]
  },
  {
   "cell_type": "code",
   "execution_count": 169,
   "metadata": {},
   "outputs": [
    {
     "data": {
      "text/plain": [
       "United States             751\n",
       "United Kingdom            185\n",
       "Canada                     72\n",
       "Germany                    45\n",
       "Ireland                    27\n",
       "Netherlands                27\n",
       "Australia                  21\n",
       "France                     13\n",
       "India                      10\n",
       "New Zealand                 8\n",
       "Poland                      7\n",
       "Switzerland                 7\n",
       "Sweden                      7\n",
       "Italy                       7\n",
       "South Africa                6\n",
       "Belgium                     6\n",
       "Brazil                      6\n",
       "Israel                      5\n",
       "Singapore                   4\n",
       "Bulgaria                    4\n",
       "Austria                     3\n",
       "Finland                     3\n",
       "Mexico                      3\n",
       "Russia                      3\n",
       "Denmark                     2\n",
       "Greece                      2\n",
       "Colombia                    2\n",
       "Croatia                     2\n",
       "Portugal                    2\n",
       "Moldova                     1\n",
       "Georgia                     1\n",
       "Bahamas, The                1\n",
       "China                       1\n",
       "Thailand                    1\n",
       "Czech Republic              1\n",
       "Norway                      1\n",
       "Romania                     1\n",
       "Nigeria                     1\n",
       "Japan                       1\n",
       "Hungary                     1\n",
       "Bosnia and Herzegovina      1\n",
       "Uruguay                     1\n",
       "Spain                       1\n",
       "Zimbabwe                    1\n",
       "Latvia                      1\n",
       "Costa Rica                  1\n",
       "Slovenia                    1\n",
       "Philippines                 1\n",
       "Name: country, dtype: int64"
      ]
     },
     "execution_count": 169,
     "metadata": {},
     "output_type": "execute_result"
    }
   ],
   "source": [
    "mental_health_df['country'].value_counts()"
   ]
  },
  {
   "cell_type": "code",
   "execution_count": 170,
   "metadata": {},
   "outputs": [
    {
     "name": "stdout",
     "output_type": "stream",
     "text": [
      "People from Europe: 358 \n",
      "People from USA:  751 \n",
      "People from Canada:  72 \n",
      "People from other countries:  78\n"
     ]
    }
   ],
   "source": [
    "# Grouping states\n",
    "eu_states = pd.read_csv('eu_states.csv')\n",
    "\n",
    "l_eu = list()\n",
    "count_eu = 0\n",
    "count_nothing = 0\n",
    "cont_usa = 0\n",
    "cont_canada = 0\n",
    "for i in range(len(mental_health_df)):\n",
    "    if str(mental_health_df.iloc[i]['country']) in list(eu_states['name']):\n",
    "        count_eu+=1\n",
    "        l_eu.append(mental_health_df.iloc[i]['country'])\n",
    "    elif str(mental_health_df.iloc[i]['country']) == 'United States':\n",
    "        cont_usa+=1\n",
    "    elif str(mental_health_df.iloc[i]['country']) == 'Canada':\n",
    "        cont_canada +=1\n",
    "    else:\n",
    "        count_nothing+=1\n",
    "\n",
    "\n",
    "print('People from Europe:',count_eu, '\\nPeople from USA: ', cont_usa, '\\nPeople from Canada: ',cont_canada, '\\nPeople from other countries: ',count_nothing)"
   ]
  },
  {
   "cell_type": "code",
   "execution_count": 171,
   "metadata": {},
   "outputs": [
    {
     "data": {
      "text/plain": [
       "United Kingdom            185\n",
       "Germany                    45\n",
       "Netherlands                27\n",
       "Ireland                    27\n",
       "France                     13\n",
       "Sweden                      7\n",
       "Switzerland                 7\n",
       "Poland                      7\n",
       "Italy                       7\n",
       "Belgium                     6\n",
       "Bulgaria                    4\n",
       "Finland                     3\n",
       "Austria                     3\n",
       "Croatia                     2\n",
       "Greece                      2\n",
       "Denmark                     2\n",
       "Portugal                    2\n",
       "Moldova                     1\n",
       "Norway                      1\n",
       "Latvia                      1\n",
       "Hungary                     1\n",
       "Bosnia and Herzegovina      1\n",
       "Spain                       1\n",
       "Romania                     1\n",
       "Slovenia                    1\n",
       "Czech Republic              1\n",
       "dtype: int64"
      ]
     },
     "execution_count": 171,
     "metadata": {},
     "output_type": "execute_result"
    }
   ],
   "source": [
    "eu_serie = pd.Series(l_eu)\n",
    "eu_serie.value_counts()"
   ]
  },
  {
   "cell_type": "code",
   "execution_count": 172,
   "metadata": {},
   "outputs": [],
   "source": [
    "mental_health_df.drop(columns=['state'], inplace = True)"
   ]
  },
  {
   "attachments": {},
   "cell_type": "markdown",
   "metadata": {},
   "source": [
    "### Cleaning from non sense e null values "
   ]
  },
  {
   "attachments": {},
   "cell_type": "markdown",
   "metadata": {},
   "source": [
    "In the *gender* column there are:\n",
    "- many values that can be grouped under a single label\n",
    "\n",
    "- non sense values \n",
    "\n",
    "- wrong spelled words\n",
    "\n",
    "In order to clean this attribute, i will group under 'Female':\n",
    "- female\n",
    "\n",
    "- cis female that is, those women who are comfortable with their biological gender\n",
    "\n",
    "- all words that refer to this genre\n",
    "\n",
    "The same for the 'Male' gender.\n",
    "\n",
    "For the other genders it's more complicated because the responses aren't clear and the labels are many. For instance, there is difference between transgender and transexual, so the label 'trans' could be incomplete. \n",
    "\n",
    "Thus i decided to group all this different cases under the label 'Other'. I understand that could seem hasty, but it's easier for the next analyses."
   ]
  },
  {
   "cell_type": "code",
   "execution_count": 173,
   "metadata": {},
   "outputs": [
    {
     "name": "stdout",
     "output_type": "stream",
     "text": [
      "Unique values for the gender column:\n",
      " ['Female' 'M' 'Male' 'male' 'female' 'm' 'Male-ish' 'maile' 'Trans-female'\n",
      " 'Cis Female' 'F' 'something kinda male?' 'Cis Male' 'Woman' 'f' 'Mal'\n",
      " 'Male (CIS)' 'queer/she/they' 'non-binary' 'Femake' 'woman' 'Make' 'Nah'\n",
      " 'All' 'Enby' 'fluid' 'Genderqueer' 'Female ' 'Androgyne' 'Agender'\n",
      " 'cis-female/femme' 'Guy (-ish) ^_^' 'male leaning androgynous' 'Male '\n",
      " 'Man' 'Trans woman' 'msle' 'Neuter' 'Female (trans)' 'queer'\n",
      " 'Female (cis)' 'Mail' 'cis male' 'A little about you' 'Malr' 'p' 'femail'\n",
      " 'Cis Man' 'ostensibly male, unsure what that really means']\n"
     ]
    }
   ],
   "source": [
    "print('Unique values for the gender column:\\n',mental_health_df['gender'].unique())"
   ]
  },
  {
   "cell_type": "code",
   "execution_count": 174,
   "metadata": {},
   "outputs": [],
   "source": [
    "# Cleaning the gender column\n",
    "female_list = ['Female', 'female', 'Cis Female', 'F' , 'Woman', 'f', 'Femake' , 'woman', 'Female ', 'cis-female/femme', 'Female (cis)', 'femail' ]\n",
    "male_list = ['M','Male','male', 'm' ,'Male-ish', 'maile', 'Cis Male' , 'Mal', 'Male (CIS)', 'Make', 'Male ', 'Man','msle','Mail' , 'cis male', 'Malr', 'Cis Man' ]\n",
    "other_list = ['Trans-female', 'something kinda male?', 'queer/she/they', 'non-binary', 'Nah', 'All','Enby', 'fluid','Genderqueer', 'Androgyne','Agender', 'Guy (-ish) ^_^','male leaning androgynous', 'Trans woman', 'Neuter','Female (trans)','queer', 'A little about you', 'p', 'ostensibly male, unsure what that really means']\n",
    "\n",
    "mental_health_df.replace(female_list, 'Female', inplace=True)\n",
    "mental_health_df.replace(male_list, 'Male', inplace=True)\n",
    "mental_health_df.replace(other_list, 'Other', inplace=True)"
   ]
  },
  {
   "attachments": {},
   "cell_type": "markdown",
   "metadata": {},
   "source": [
    "Once the cleaning it's done, it can be seen that the male respondents are four times the females one:\n",
    "\n",
    "- when considering some assumptions, recall the fact that the male sample is bigger than the female one. So it can not be said, for instance, that male suffer of mental illnes more than females.\n",
    "\n",
    "- this could mean that the number of men in tech industries is greater than the number of women"
   ]
  },
  {
   "cell_type": "code",
   "execution_count": 175,
   "metadata": {},
   "outputs": [
    {
     "name": "stdout",
     "output_type": "stream",
     "text": [
      "Unique values of the gender column after the cleaning \n",
      " ['Female' 'Male' 'Other']\n",
      "\n",
      "Label counts:\n",
      "Male      991\n",
      "Female    247\n",
      "Other      21\n",
      "Name: gender, dtype: int64\n"
     ]
    }
   ],
   "source": [
    "print('Unique values of the gender column after the cleaning \\n', mental_health_df['gender'].unique())\n",
    "print('\\nLabel counts:')\n",
    "print(mental_health_df['gender'].value_counts())"
   ]
  },
  {
   "attachments": {},
   "cell_type": "markdown",
   "metadata": {},
   "source": [
    "- In the *age* column there are many meaningless numbers.\n",
    "\n",
    "- It's possible to see that these numbers are present as uniques values, so i'm going to drop the rows that contain these values.\n",
    "\n",
    "- Furthermore, i select the age range 18-72 as a valid range for working (it's possible to see that 72 is the max age among the reasonable values)"
   ]
  },
  {
   "cell_type": "code",
   "execution_count": 176,
   "metadata": {},
   "outputs": [
    {
     "name": "stdout",
     "output_type": "stream",
     "text": [
      "Unique values for the age column:\n",
      " [         37          44          32          31          33          35\n",
      "          39          42          23          29          36          27\n",
      "          46          41          34          30          40          38\n",
      "          50          24          18          28          26          22\n",
      "          19          25          45          21         -29          43\n",
      "          56          60          54         329          55 99999999999\n",
      "          48          20          57          58          47          62\n",
      "          51          65          49       -1726           5          53\n",
      "          61           8          11          -1          72]\n",
      "\n",
      "\n",
      "First 10 min and max values for the age column:\n",
      "Max values:  [         57          58          60          60          61          62\n",
      "          65          72         329 99999999999]\n",
      "\n",
      "Min values:  [-1726   -29    -1     5     8    11    18    18    18    18]\n"
     ]
    }
   ],
   "source": [
    "print('Unique values for the age column:\\n', mental_health_df['age'].unique())\n",
    "print('\\n\\nFirst 10 min and max values for the age column:')\n",
    "print('Max values: ', np.sort(list(mental_health_df['age'].nlargest(10))))\n",
    "print('\\nMin values: ', np.sort(list(mental_health_df['age'].nsmallest(10))))"
   ]
  },
  {
   "cell_type": "code",
   "execution_count": 177,
   "metadata": {},
   "outputs": [],
   "source": [
    "# Cleaning the age column\n",
    "mental_health_df.drop(mental_health_df[mental_health_df['age'] < 18].index, inplace= True)\n",
    "mental_health_df.drop(mental_health_df[mental_health_df['age'] > 72].index, inplace= True)"
   ]
  },
  {
   "attachments": {},
   "cell_type": "markdown",
   "metadata": {},
   "source": [
    "Cheking the fairness of the data, we see that:\n",
    "\n",
    "- the avarage age is 32\n",
    "\n",
    "- the age range is from 18 to 72, although 72 is more of an isolated value. Infact from 18 to 65 all the ages are uniformly present. "
   ]
  },
  {
   "cell_type": "code",
   "execution_count": 178,
   "metadata": {},
   "outputs": [
    {
     "name": "stdout",
     "output_type": "stream",
     "text": [
      "Unique values of the age column after the cleaning \n",
      " [18 19 20 21 22 23 24 25 26 27 28 29 30 31 32 33 34 35 36 37 38 39 40 41\n",
      " 42 43 44 45 46 47 48 49 50 51 53 54 55 56 57 58 60 61 62 65 72]\n",
      "\n",
      "Min and max age: 18 - 72\n",
      "\n",
      "Average age:  32\n"
     ]
    }
   ],
   "source": [
    "print('Unique values of the age column after the cleaning \\n', np.sort(mental_health_df['age'].unique()))\n",
    "print('\\nMin and max age:',mental_health_df['age'].min(),'-',mental_health_df['age'].max() )\n",
    "print('\\nAverage age: ', int(mental_health_df['age'].mean()))"
   ]
  },
  {
   "attachments": {},
   "cell_type": "markdown",
   "metadata": {},
   "source": [
    "The remaining columns for the cleaning are the *self_employed* and *work_interfere* ones.\n",
    "\n",
    "- Given that the most of the respondents aren't self employed and the NaN values are 18, i will substitute the null values with the label 'No'. \n",
    "\n",
    "- In the second case ( *work_interfere* column), there are 262 null values and  the most frequent answer is \"Sometimes\". However, replacing the null values with this label would be misleading for the analysis. Infact it's meaningless to make some kind of avarage in this particular case.\n",
    "\n",
    "- Then, i decided to replace this NaN values with the label \"Don't know\", that is a plausible answer to this question."
   ]
  },
  {
   "cell_type": "code",
   "execution_count": 179,
   "metadata": {},
   "outputs": [
    {
     "name": "stdout",
     "output_type": "stream",
     "text": [
      "NaN values for the column self_employed:  18\n",
      "NaN values for the column work_interfere:  262\n",
      "\n",
      "Counting values for the column self_employed\n",
      "No     1091\n",
      "Yes     142\n",
      "Name: self_employed, dtype: int64\n",
      "\n",
      "Counting values for the column self_employed\n",
      "Sometimes    464\n",
      "Never        212\n",
      "Rarely       173\n",
      "Often        140\n",
      "Name: work_interfere, dtype: int64\n"
     ]
    }
   ],
   "source": [
    "print('NaN values for the column self_employed: ', mental_health_df['self_employed'].isnull().sum() )\n",
    "print('NaN values for the column work_interfere: ', mental_health_df['work_interfere'].isnull().sum() )\n",
    "\n",
    "print('\\nCounting values for the column self_employed')\n",
    "print(mental_health_df['self_employed'].value_counts())\n",
    "\n",
    "print('\\nCounting values for the column self_employed')\n",
    "print(mental_health_df['work_interfere'].value_counts())"
   ]
  },
  {
   "cell_type": "code",
   "execution_count": 180,
   "metadata": {},
   "outputs": [],
   "source": [
    "# Cleaning the self_employed column\n",
    "mental_health_df['self_employed'].fillna(value = 'No', inplace = True)\n",
    "\n",
    "# Cleaning the work_interfere column\n",
    "mental_health_df['work_interfere'].fillna(value = 'Don\\'t know', inplace = True)"
   ]
  },
  {
   "attachments": {},
   "cell_type": "markdown",
   "metadata": {},
   "source": [
    "Checking quickly that there are no more wrong or null values in  the columns (except for already checked columns: age, gender and country)"
   ]
  },
  {
   "cell_type": "code",
   "execution_count": 181,
   "metadata": {},
   "outputs": [
    {
     "name": "stdout",
     "output_type": "stream",
     "text": [
      "self_employed ['No' 'Yes']\n",
      "family_history ['No' 'Yes']\n",
      "treatment ['Yes' 'No']\n",
      "work_interfere ['Often' 'Rarely' 'Never' 'Sometimes' \"Don't know\"]\n",
      "no_employees ['6-25' 'More than 1000' '26-100' '100-500' '1-5' '500-1000']\n",
      "remote_work ['No' 'Yes']\n",
      "tech_company ['Yes' 'No']\n",
      "benefits ['Yes' \"Don't know\" 'No']\n",
      "care_options ['Not sure' 'No' 'Yes']\n",
      "wellness_program ['No' \"Don't know\" 'Yes']\n",
      "seek_help ['Yes' \"Don't know\" 'No']\n",
      "anonymity ['Yes' \"Don't know\" 'No']\n",
      "leave ['Somewhat easy' \"Don't know\" 'Somewhat difficult' 'Very difficult'\n",
      " 'Very easy']\n",
      "mental_health_consequence ['No' 'Maybe' 'Yes']\n",
      "phys_health_consequence ['No' 'Yes' 'Maybe']\n",
      "coworkers ['Some of them' 'No' 'Yes']\n",
      "supervisor ['Yes' 'No' 'Some of them']\n",
      "mental_health_interview ['No' 'Yes' 'Maybe']\n",
      "phys_health_interview ['Maybe' 'No' 'Yes']\n",
      "mental_vs_physical ['Yes' \"Don't know\" 'No']\n",
      "obs_consequence ['No' 'Yes']\n"
     ]
    }
   ],
   "source": [
    "for column in mental_health_df.iloc[:, 3:]:\n",
    "    print(column, mental_health_df[column].unique())"
   ]
  },
  {
   "attachments": {},
   "cell_type": "markdown",
   "metadata": {},
   "source": [
    "## Interesting plots"
   ]
  },
  {
   "attachments": {},
   "cell_type": "markdown",
   "metadata": {},
   "source": [
    "This code below contains variable, settings and functions useful for every case."
   ]
  },
  {
   "cell_type": "code",
   "execution_count": 182,
   "metadata": {},
   "outputs": [],
   "source": [
    "# Useful data\n",
    "tot_rows = mental_health_df.shape[0]\n",
    "\n",
    "# Default settings\n",
    "plt.rcParams['figure.facecolor'] = 'white'\n",
    "plt.rcParams[\"axes.grid\"] = False\n",
    "plt.rcParams[\"axes.spines.top\"] = False\n",
    "plt.rcParams[\"axes.spines.right\"] = False\n",
    "plt.rcParams['axes.linewidth'] = 0.5 \n",
    "plt.rcParams['axes.edgecolor'] = 'black'\n",
    "\n",
    "\n",
    "# Function for computing percentages\n",
    "def percent(df, row):\n",
    "    perc = list()\n",
    "    for column in df:\n",
    "        values = df[column].loc[row]\n",
    "        total = df[column].sum()\n",
    "        perc.append(int(round((values/ total) * 100)))\n",
    "    return perc\n"
   ]
  },
  {
   "attachments": {},
   "cell_type": "markdown",
   "metadata": {},
   "source": [
    "The **first plot** shows the answers to the question, *'Have you sought treatment for a mental health condition?*\n",
    "\n",
    "- It's inferred that about half of the respondents have sought treatment for a mental health condtion \n",
    "\n",
    "<br>\n",
    "\n",
    "The **second plot** show how many respondents, divided by gender, have sought a treatment for a mental health condition.\n",
    "\n",
    "- we see that among woman, a good percentage (69%) has been looking for a treatment. \n",
    "\n",
    "- on the other hand, men seem to be slightly more reluctant to seek treatment (the percentage is 45%) \n",
    "\n",
    "- finally, most of the individuals under the category have sought a treatment, but remember that are only 21 individuals with this label, so this observation is not fully indicative\n",
    "\n",
    "It is important to remember, as we have seen before, that males are more than female, so we have two samples with a substantial difference in largness. However, deriving the percentages for each category we can compare the data.\n",
    "\n",
    "With these premises, we could suppose that female are more willing to face their problem with mental health and thus they have searched a treatment. Myabe some males are still resistant because of the stereotypes of what women and men must be like to be defined as such.\n",
    "\n",
    "In this view, men are considerd strong and less emotional than women, so they are more reluctant to open up."
   ]
  },
  {
   "cell_type": "code",
   "execution_count": 183,
   "metadata": {},
   "outputs": [
    {
     "data": {
      "image/png": "[encoded data removed]",
      "text/plain": [
       "<Figure size 1000x500 with 2 Axes>"
      ]
     },
     "metadata": {},
     "output_type": "display_data"
    }
   ],
   "source": [
    "# 1\n",
    "labels_ans = mental_health_df['treatment'].value_counts().index.to_list()                   # Yes, No\n",
    "counts_ans = list(map(lambda x: round((x/tot_rows)*100), mental_health_df['treatment'].value_counts()))\n",
    "\n",
    "# 2\n",
    "labels_gender = list(mental_health_df['gender'].unique())      # Female, Male, Other\n",
    "\n",
    "df_gender_treatment = mental_health_df.groupby(['gender', 'treatment'])['treatment'].count().unstack(0)  \n",
    "yes_perc = percent(df_gender_treatment, 'Yes')\n",
    "no_perc = percent(df_gender_treatment, 'No')\n",
    "\n",
    "# The label locations\n",
    "x = np.arange(len(labels_gender))  \n",
    "width = 0.35  # the width of the bars\n",
    "\n",
    "# Plot\n",
    "fig1, (ax1, ax2) = plt.subplots(1,2,figsize =(10, 5))\n",
    "fig1.subplots_adjust(wspace=0.5)\n",
    "\n",
    "ax1.bar(labels_ans, counts_ans, color ='steelblue', label=labels_ans)\n",
    "ax2.bar(x - width/2, yes_perc, width, color= 'steelblue', label= 'Yes')\n",
    "ax2.bar(x + width/2, no_perc, width, color= 'lightblue', label ='No')\n",
    "\n",
    "# Labels, ticks \n",
    "ax1.set_xlabel(\"Treatment search\", labelpad= 10.0, fontname=\"Arial\", fontsize=11, fontweight = 'medium')\n",
    "ax2.set_xlabel(\"Gender\", labelpad= 10.0, fontname=\"Arial\", fontsize=11, fontweight = 'medium')\n",
    "ax1.set_ylabel(\"Percentages\", labelpad= 10.0, fontname=\"Arial\", fontsize=11, fontweight = 'medium')\n",
    "ax2.set_ylabel(\"Treatment search\", labelpad= 10.0, fontname=\"Arial\", fontsize=11, fontweight = 'medium')\n",
    "ax2.set_xticks(x, labels_gender)\n",
    "ax1.set_yticks(np.arange(0,101, 10))\n",
    "ax2.set_yticks(np.arange(0,101, 10))\n",
    "\n",
    "# Percenteges\n",
    "for p in ax1.patches:\n",
    "    height = p.get_height()\n",
    "    ax1.annotate(\"{}%\".format(height), (p.get_x() + p.get_width() / 2, height+ 1.25), ha='center')\n",
    "\n",
    "for p in ax2.patches:\n",
    "    height = p.get_height()\n",
    "    ax2.annotate(\"{}%\".format(height), (p.get_x() + p.get_width() / 2, height+ 1.25), ha='center')\n",
    "\n",
    "# Title\n",
    "ax1.set_title('Employees who have sought treatment', fontsize= 14, fontweight= 'heavy', color = 'black', y=1.15, pad=10)\n",
    "ax2.set_title('Employees who have sought treatment \\ndivided by gender', fontsize= 14, fontweight= 'heavy', color = 'black', y=1.15, pad=10)\n",
    "\n",
    "# Legend\n",
    "ax2.legend(loc = 'upper right', bbox_to_anchor=(0.65, 0.55, 0.5, 0.5))\n",
    "\n",
    "# show\n",
    "plt.show()"
   ]
  },
  {
   "attachments": {},
   "cell_type": "markdown",
   "metadata": {},
   "source": [
    "The **first plot** shows the answer to the question, *'Do you have a family history of mental illness?'*.\n",
    "\n",
    "<br>\n",
    "\n",
    "The **second plot** shows the percentages of respondents who have sought a treatment, given that they came from a family with or without a history in mental illness.\n",
    "\n",
    "- among who have a family history, the 74 % have sought a treatment while for the ones that don't have a family history, only the 35% have searched treatments.\n",
    "\n",
    "- this means that peoople who have had cases of mental illness in the family pay more attention to this a topic. Infact, when it comes to mental health/brain health, the family history matters.\n",
    "\n",
    "\n"
   ]
  },
  {
   "cell_type": "code",
   "execution_count": 184,
   "metadata": {},
   "outputs": [
    {
     "data": {
      "image/png": "[encoded data removed]",
      "text/plain": [
       "<Figure size 1000x500 with 2 Axes>"
      ]
     },
     "metadata": {},
     "output_type": "display_data"
    }
   ],
   "source": [
    "# Data\n",
    "# 1\n",
    "labels_ans = list(reversed(mental_health_df['family_history'].value_counts().index.to_list()))                         # Yes, No\n",
    "reverse_serie = mental_health_df['family_history'].value_counts().reindex(index= mental_health_df['family_history'].value_counts().index[::-1])\n",
    "counts_ans = list(map(lambda x: round((x/tot_rows)*100), reverse_serie))\n",
    "\n",
    "# 2\n",
    "df_family = mental_health_df.groupby(['family_history', 'treatment'])['treatment'].count().unstack(0)\n",
    "df_family = df_family.reindex(index= df_family.index[::-1], columns=df_family.columns[::-1])               \n",
    "yes_perc = percent(df_family, 'Yes')\n",
    "no_perc = percent(df_family, 'No')\n",
    "\n",
    "# The label locations\n",
    "x = np.arange(len(labels_ans))  \n",
    "width = 0.35  \n",
    "\n",
    "# Plot\n",
    "fig1, (ax1, ax2) = plt.subplots(1, 2, figsize =(10, 5))\n",
    "fig1.subplots_adjust(wspace=0.5)\n",
    "\n",
    "ax1.bar(labels_ans, counts_ans, color ='steelblue',  width = 0.4 , label=labels_ans)\n",
    "ax2.bar(x - width/2, yes_perc, width, color= 'steelblue', label= 'Yes')\n",
    "ax2.bar(x + width/2, no_perc, width, color= 'lightblue', label ='No')\n",
    "\n",
    "# Labels, ticks \n",
    "ax1.set_xlabel(\"Family history\", labelpad= 13.0, fontname=\"Arial\", fontsize=11, fontweight = 'medium')\n",
    "ax2.set_xlabel(\"Family history\", labelpad= 13.0, fontname=\"Arial\", fontsize=11, fontweight = 'medium')\n",
    "ax1.set_ylabel(\"Percentages\", labelpad= 13.0, fontname=\"Arial\", fontsize=11, fontweight = 'medium')\n",
    "ax2.set_ylabel(\"Treatment search\", labelpad= 13.0, fontname=\"Arial\", fontsize=11, fontweight = 'medium')\n",
    "ax2.set_xticks(x, labels_ans)\n",
    "ax1.set_yticks(np.arange(0,101, 10))\n",
    "ax2.set_yticks(np.arange(0,101, 10))\n",
    "\n",
    "# Percentages\n",
    "for p in ax1.patches:\n",
    "   height = p.get_height() \n",
    "   ax1.annotate(\"{}%\".format(height), (p.get_x() + p.get_width() / 2, height+ 1.25), ha='center')\n",
    "\n",
    "for p in ax2.patches:\n",
    "   height = p.get_height() \n",
    "   ax2.annotate(\"{}%\".format(round(height)), (p.get_x() + p.get_width() / 2, height+ 1.25), ha='center')\n",
    "\n",
    "# Titles\n",
    "ax1.set_title(\"Family History of the respondents\", fontsize= 13, fontweight= 'heavy', color = 'black', y=1.1, pad=10)\n",
    "ax2.set_title(\"Family History and\\n seeking for treatment\", fontsize= 13, fontweight= 'heavy', color = 'black', y=1.1, pad=10)\n",
    "\n",
    "# Legend\n",
    "ax2.legend(loc = 'upper right', bbox_to_anchor=(0.65, 0.55, 0.5, 0.5))\n",
    "\n",
    "# Show\n",
    "plt.show()"
   ]
  },
  {
   "attachments": {},
   "cell_type": "markdown",
   "metadata": {},
   "source": [
    "The plot compares the resoponses to these 2 question:\n",
    "1. *Do you think that discussing a mental health issue with your employer would have negative consequences?*\n",
    "2. *Do you think that discussing a physical health issue with your employer would have negative consequences?*\n",
    "\n",
    "We see that the about the 74% of respondents don't think that discussing a physical health issue would have negative consequences, while only 39% have the same thought for the mental health.\n",
    "Infact we see that there is more indecision among the respondents for the mental health category.\n",
    "\n",
    "This highlights how differently mental and physical health are seen and treated. Keeping in mind that this survey took place in 2014, we could say that there are still prejudices on mental health issues in our society, because they are \"invisible\" and more complex to undestrand. Often there is a stigma against those who suffer of mental health issues, because they are considered weird and dangerous. All of these reasons may therefore explain how talking about a mental problem with the employer could be a negative action."
   ]
  },
  {
   "cell_type": "code",
   "execution_count": 193,
   "metadata": {},
   "outputs": [
    {
     "data": {
      "image/png": "[encoded data removed]",
      "text/plain": [
       "<Figure size 800x500 with 1 Axes>"
      ]
     },
     "metadata": {},
     "output_type": "display_data"
    }
   ],
   "source": [
    "# Data\n",
    "mhc = mental_health_df['mental_health_consequence'].value_counts().reindex(index= mental_health_df['mental_health_consequence'].value_counts().index[::-1])\n",
    "phc = mental_health_df['phys_health_consequence'].value_counts().reindex(index= mental_health_df['phys_health_consequence'].value_counts().index[::-1])\n",
    "\n",
    "labels = mhc.index.to_list()                 \n",
    "counts_mhc = list(map(lambda x: round((x/tot_rows)*100), mhc))\n",
    "counts_phc = list(map(lambda x: round((x/tot_rows)*100), phc))\n",
    "  \n",
    "# The label locations\n",
    "x = np.arange(len(labels))  \n",
    "width = 0.35  \n",
    "\n",
    "# Plot\n",
    "fig1, ax1 = plt.subplots(figsize =(8, 5))\n",
    "ax1.bar(x - width/2, counts_mhc, width, color= 'steelblue', label= 'Mental health')\n",
    "ax1.bar(x + width/2, counts_phc, width, color= 'lightblue', label ='Physical health')\n",
    "\n",
    "# Labels, ticks \n",
    "ax1.set_xlabel(\"Answers\", labelpad= 13.0, fontname=\"Arial\", fontsize=11, fontweight = 'medium')\n",
    "ax1.set_ylabel(\"Percentages\", labelpad= 13.0, fontname=\"Arial\", fontsize=11, fontweight = 'medium')\n",
    "ax1.set_xticks(x, labels)\n",
    "ax1.set_yticks(np.arange(0,101, 10))\n",
    "\n",
    "# Percentages\n",
    "for p in ax1.patches:\n",
    "   height = p.get_height() \n",
    "   ax1.annotate(\"{}%\".format(height), (p.get_x() + p.get_width() / 2, height+ 1.25), ha='center')\n",
    "\n",
    "# Titles\n",
    "ax1.set_title(\"Negative consequences of discussing of Mental \\nand Physical health with Employer\", fontsize= 13, fontweight= 'heavy', color = 'black', y=1.1, pad=10)\n",
    "\n",
    "# Legend\n",
    "ax1.legend(loc = 'upper right', bbox_to_anchor=(0.65, 0.55, 0.5, 0.5))\n",
    "\n",
    "# Show\n",
    "plt.tight_layout()\n",
    "plt.show()"
   ]
  },
  {
   "cell_type": "code",
   "execution_count": 202,
   "metadata": {},
   "outputs": [
    {
     "data": {
      "image/png": "[encoded data removed]",
      "text/plain": [
       "<Figure size 800x500 with 1 Axes>"
      ]
     },
     "metadata": {},
     "output_type": "display_data"
    }
   ],
   "source": [
    "# Data\n",
    "co = mental_health_df['coworkers'].value_counts().reindex(index= mental_health_df['coworkers'].value_counts().index[::-1])\n",
    "sup = mental_health_df['supervisor'].value_counts()\n",
    "\n",
    "labels = co.index.to_list()                 \n",
    "counts_co = list(map(lambda x: round((x/tot_rows)*100), co))\n",
    "counts_sup = list(map(lambda x: round((x/tot_rows)*100), sup))\n",
    "  \n",
    "# The label locations\n",
    "x = np.arange(len(labels))  \n",
    "width = 0.35  \n",
    "\n",
    "# Plot\n",
    "fig1, ax1 = plt.subplots(figsize =(8, 5))\n",
    "ax1.bar(x - width/2, counts_co, width, color= 'steelblue', label= 'Coworkers')\n",
    "ax1.bar(x + width/2, counts_sup, width, color= 'lightblue', label ='Supervisor')\n",
    "\n",
    "# Labels, ticks \n",
    "ax1.set_xlabel(\"Answers\", labelpad= 13.0, fontname=\"Arial\", fontsize=11, fontweight = 'medium')\n",
    "ax1.set_ylabel(\"Percentages\", labelpad= 13.0, fontname=\"Arial\", fontsize=11, fontweight = 'medium')\n",
    "ax1.set_xticks(x, labels)\n",
    "ax1.set_yticks(np.arange(0,101, 10))\n",
    "\n",
    "# Percentages\n",
    "for p in ax1.patches:\n",
    "   height = p.get_height() \n",
    "   ax1.annotate(\"{}%\".format(height), (p.get_x() + p.get_width() / 2, height+ 1.25), ha='center')\n",
    "\n",
    "# Titles\n",
    "ax1.set_title(\"Discussing of Mental and Physical health issues\\n with coworkers and supervisors\", fontsize= 13, fontweight= 'heavy', color = 'black', y=1.1, pad=10)\n",
    "\n",
    "# Legend\n",
    "ax1.legend(loc = 'upper right', bbox_to_anchor=(0.65, 0.55, 0.5, 0.5))\n",
    "\n",
    "# Show\n",
    "plt.tight_layout()\n",
    "plt.show()"
   ]
  },
  {
   "cell_type": "code",
   "execution_count": 265,
   "metadata": {},
   "outputs": [],
   "source": [
    "temp = pd.concat([mental_health_df['coworkers'], mental_health_df['supervisor']], axis=1)"
   ]
  },
  {
   "cell_type": "code",
   "execution_count": null,
   "metadata": {},
   "outputs": [],
   "source": [
    "sb.catplot(data=tips, x=\"coworker\", y=\"supervisor\", order=[\"Yes\", \"No\", \"Some of them\"])\n"
   ]
  },
  {
   "cell_type": "code",
   "execution_count": null,
   "metadata": {},
   "outputs": [],
   "source": [
    "# Label Encoding the categorical variables\n",
    "\n",
    "from sklearn.preprocessing import LabelEncoder\n",
    "object_cols = ['Gender', 'self_employed', 'family_history', 'treatment',\n",
    "       'work_interfere', 'no_employees', 'remote_work', 'tech_company',\n",
    "       'benefits', 'care_options', 'wellness_program', 'seek_help',\n",
    "       'anonymity', 'leave', 'mental_health_consequence',\n",
    "       'phys_health_consequence', 'coworkers', 'supervisor',\n",
    "       'mental_health_interview', 'phys_health_interview',\n",
    "       'mental_vs_physical', 'obs_consequence']\n",
    "label_encoder = LabelEncoder()\n",
    "for col in object_cols:\n",
    "    label_encoder.fit(df[col])\n",
    "    df[col] = label_encoder.transform(df[col])"
   ]
  }
 ],
 "metadata": {
  "kernelspec": {
   "display_name": "Python 3",
   "language": "python",
   "name": "python3"
  },
  "language_info": {
   "codemirror_mode": {
    "name": "ipython",
    "version": 3
   },
   "file_extension": ".py",
   "mimetype": "text/x-python",
   "name": "python",
   "nbconvert_exporter": "python",
   "pygments_lexer": "ipython3",
   "version": "3.10.3"
  },
  "orig_nbformat": 4,
  "vscode": {
   "interpreter": {
    "hash": "aee8b7b246df8f9039afb4144a1f6fd8d2ca17a180786b69acc140d282b71a49"
   }
  }
 },
 "nbformat": 4,
 "nbformat_minor": 2
}
