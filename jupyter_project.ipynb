{
 "cells": [
  {
   "attachments": {},
   "cell_type": "markdown",
   "metadata": {},
   "source": [
    "# Mental Health in Tech Workplaces\n",
    "Project for \"Programming for Data Science\""
   ]
  },
  {
   "cell_type": "code",
   "execution_count": null,
   "metadata": {},
   "outputs": [],
   "source": [
    "# Imports \n",
    "import pandas as pd\n",
    "import numpy as np\n",
    "import matplotlib.pyplot as plt\n",
    "from matplotlib.patches import ConnectionPatch\n",
    "from matplotlib import colors as mcolors\n",
    "import matplotlib.ticker as mtik\n",
    "import seaborn as sb\n",
    "import streamlit as st\n",
    "from sklearn import preprocessing\n",
    "import plotly.express as px\n",
    "from sklearn.preprocessing import LabelEncoder"
   ]
  },
  {
   "attachments": {},
   "cell_type": "markdown",
   "metadata": {},
   "source": [
    "## Dataset Information"
   ]
  },
  {
   "attachments": {},
   "cell_type": "markdown",
   "metadata": {},
   "source": [
    "This dataset is from a 2014 survey that measures attitudes towards mental health and frequency of mental health disorders in the tech workplace. The organization that has collected this data is the \"Open Sourcing Mental Health\" organization (OSMH).\n",
    "\n",
    "Open Sourcing Mental Health is a non-profit, corporation dedicated to raising awareness, educating, and providing resources to support mental wellness in the tech and open source communities."
   ]
  },
  {
   "attachments": {},
   "cell_type": "markdown",
   "metadata": {},
   "source": [
    "## Exploration and cleaning of the dataset"
   ]
  },
  {
   "attachments": {},
   "cell_type": "markdown",
   "metadata": {},
   "source": [
    "### The dataset"
   ]
  },
  {
   "cell_type": "code",
   "execution_count": null,
   "metadata": {},
   "outputs": [],
   "source": [
    "mental_health_df_raw = pd.read_csv('https://raw.githubusercontent.com/EmmaTosato/Programming_Project/main/survey.csv')"
   ]
  },
  {
   "attachments": {},
   "cell_type": "markdown",
   "metadata": {},
   "source": [
    "### Useful informations"
   ]
  },
  {
   "cell_type": "code",
   "execution_count": null,
   "metadata": {},
   "outputs": [],
   "source": [
    "mental_health_df_raw.info()"
   ]
  },
  {
   "cell_type": "code",
   "execution_count": null,
   "metadata": {},
   "outputs": [],
   "source": [
    "mental_health_df_raw.head()"
   ]
  },
  {
   "attachments": {},
   "cell_type": "markdown",
   "metadata": {},
   "source": [
    "- In this dataset there are 1259 rows and 27 columnes (attributes)\n",
    "\n",
    "- The age column has integer values\n",
    "\n",
    "- All the other attribitues have object values"
   ]
  },
  {
   "attachments": {},
   "cell_type": "markdown",
   "metadata": {},
   "source": [
    "### Meaning of the columns"
   ]
  },
  {
   "attachments": {},
   "cell_type": "markdown",
   "metadata": {},
   "source": [
    "\n",
    "The first 4 columns (2 to 5) concern general informations about the individuals. Every attribute contains answers to a specific question.\n",
    "\n",
    "* **Timestamp:** contains date, month, year and time\n",
    "\n",
    "* **Age**: How old are you?\n",
    "\n",
    "* **Gender**: Which gender do you identify with?\n",
    "\n",
    "* **Country**: What country do you live in?\n",
    "\n",
    "* **state:** If you live in the United States, which state or territory do you live in?\n",
    "\n",
    "* **self_employed:** Are you self-employed?\n",
    "\n",
    "* **family_history:** Do you have a family history of mental illness?\n",
    "\n",
    "* **treatment:** Have you sought treatment for a mental health condition?\n",
    "\n",
    "* **work_interfere:** If you have a mental health condition, do you feel that it interferes with your work?\n",
    "\n",
    "* **no_employees:** How many employees does your company or organization have?\n",
    "\n",
    "* **remote_work:** Do you work remotely (outside of an office) at least 50% of the time?\n",
    "\n",
    "* **tech_company:** Is your employer primarily a tech company/organization?\n",
    "\n",
    "* **benefits:** Does your employer provide mental health benefits?\n",
    "\n",
    "* **care_options:** Do you know the options for mental health care your employer provides?\n",
    "\n",
    "* **wellness_program:** Has your employer ever discussed mental health as part of an employee wellness program?\n",
    "\n",
    "* **seek_help:** Does your employer provide resources to learn more about mental health issues and how to seek help?\n",
    "\n",
    "* **anonymity:** Is your anonymity protected if you choose to take advantage of mental health or substance abuse treatment resources?\n",
    "\n",
    "* **leave:** How easy is it for you to take medical leave for a mental health condition?\n",
    "\n",
    "* **mentalhealthconsequence:** Do you think that discussing a mental health issue with your employer would have negative consequences?\n",
    "\n",
    "* **physhealthconsequence:** Do you think that discussing a physical health issue with your employer would have negative consequences?\n",
    "\n",
    "* **coworkers:** Would you be willing to discuss a mental health issue with your coworkers?\n",
    "\n",
    "* **physhealthinterview:** Would you bring up a physical health issue with a potential employer in an interview?\n",
    "\n",
    "* **mentalvsphysical:** Do you feel that your employer takes mental health as seriously as physical health?\n",
    "\n",
    "* **obs_consequence:** Have you heard of or observed negative consequences for coworkers with mental health conditions in your workplace?\n",
    "\n",
    "* **comments:** Any additional notes or comments\n"
   ]
  },
  {
   "attachments": {},
   "cell_type": "markdown",
   "metadata": {},
   "source": [
    "Here i converting the column's name to lowercase characters. In this way, manipulating the columns becomes easier."
   ]
  },
  {
   "cell_type": "code",
   "execution_count": null,
   "metadata": {},
   "outputs": [],
   "source": [
    "mental_health_df_raw.columns = mental_health_df_raw.columns.map(str.lower)"
   ]
  },
  {
   "attachments": {},
   "cell_type": "markdown",
   "metadata": {},
   "source": [
    "### Dropping columns   "
   ]
  },
  {
   "cell_type": "code",
   "execution_count": null,
   "metadata": {},
   "outputs": [],
   "source": [
    "mental_health_df_raw.isnull().sum()"
   ]
  },
  {
   "cell_type": "code",
   "execution_count": null,
   "metadata": {},
   "outputs": [],
   "source": [
    "mental_health_df_raw.drop(columns=['timestamp', 'comments'], inplace = True)"
   ]
  },
  {
   "attachments": {},
   "cell_type": "markdown",
   "metadata": {},
   "source": [
    "- Checking how many null values in each columns\n",
    "\n",
    "- Dropping the *timestamp* column because it isn't useful for the survey \n",
    "\n",
    "- Dropping the *comments* column because the are 1095 null values out of 1259 entries "
   ]
  },
  {
   "cell_type": "code",
   "execution_count": null,
   "metadata": {},
   "outputs": [],
   "source": [
    "mental_health_df_raw['state'].value_counts()"
   ]
  },
  {
   "cell_type": "code",
   "execution_count": null,
   "metadata": {},
   "outputs": [],
   "source": [
    "mental_health_df_raw.drop(columns=['state'], inplace = True)"
   ]
  },
  {
   "attachments": {},
   "cell_type": "markdown",
   "metadata": {},
   "source": [
    "- In the *state* column the are too many null values, since there are only USA's states. Even if we focus only on the USA, there are too few people for many states. Thus it would be misleading to say that a certain state is prone to cases of mental illness.\n",
    "\n",
    "- For these reasons, the column has to be dropped."
   ]
  },
  {
   "cell_type": "code",
   "execution_count": null,
   "metadata": {},
   "outputs": [],
   "source": [
    "mental_health_df_raw['country'].value_counts()"
   ]
  },
  {
   "cell_type": "code",
   "execution_count": null,
   "metadata": {},
   "outputs": [],
   "source": [
    "def new_column(df):\n",
    "    eu_states = pd.read_csv('eu_states.csv')\n",
    "    eu_l = list()\n",
    "    temp_l = list()\n",
    "\n",
    "    for i in range(len(df)):\n",
    "        if str(df.iloc[i]['country']) in list(eu_states['name']):\n",
    "            eu_l.append(df.iloc[i]['country'])\n",
    "            temp_l.append('Europe')\n",
    "        elif str(df.iloc[i]['country']) == 'United States':\n",
    "            temp_l.append('United States')\n",
    "        elif str(df.iloc[i]['country']) == 'Canada':\n",
    "            temp_l.append('Canada')\n",
    "        else:\n",
    "            temp_l.append('Other countries')\n",
    "\n",
    "    country2 = pd.Series(temp_l)\n",
    "\n",
    "    return eu_l, country2"
   ]
  },
  {
   "cell_type": "code",
   "execution_count": null,
   "metadata": {},
   "outputs": [],
   "source": [
    "eu_l, country2 = new_column(mental_health_df_raw)\n",
    "print('Number of people from different places:')\n",
    "print(country2.value_counts())"
   ]
  },
  {
   "cell_type": "code",
   "execution_count": null,
   "metadata": {},
   "outputs": [],
   "source": [
    "eu_serie = pd.Series(eu_l)\n",
    "eu_serie.value_counts()"
   ]
  },
  {
   "attachments": {},
   "cell_type": "markdown",
   "metadata": {},
   "source": [
    "Here I want to highlight some important elements about the *countries* column \n",
    "- Since almost the 60% percent of the people come from USA (and the 5% from Canada), making certain assumptions about the data by referring to the country of origin could be risky. As in the previus case, we can't say that a country has more case of mental ilness, because the numbers of respondents across countries aren't uniform. \n",
    "\n",
    "- I filtered the European countries, in order to have a comparison with the USA. \n",
    "\n",
    "- Therfore, selecting only European countries, we can see that the majority of the individuals come from UK. Considering all the other countries (both european and non), there are many that have only one exponent. As before, this variety could be misleading. \n",
    "\n",
    "However, keeping in mind this considerations, this column may be useful in some analyses."
   ]
  },
  {
   "attachments": {},
   "cell_type": "markdown",
   "metadata": {},
   "source": [
    "### Cleaning from non sense e null values "
   ]
  },
  {
   "attachments": {},
   "cell_type": "markdown",
   "metadata": {},
   "source": [
    "In the *gender* column there are:\n",
    "- many values that can be grouped under a single label\n",
    "\n",
    "- non sense values \n",
    "\n",
    "- wrong spelled words\n",
    "\n",
    "In order to clean this attribute, i will group under 'Female':\n",
    "- female\n",
    "\n",
    "- cis female that is, those women who are comfortable with their biological gender\n",
    "\n",
    "- all words that refer to this genre\n",
    "\n",
    "The same for the 'Male' gender.\n",
    "\n",
    "For the other genders it's more complicated because the responses aren't clear and the labels are many. For instance, there is difference between transgender and transexual, so the label 'trans' could be incomplete. \n",
    "\n",
    "Thus i decided to group all this different cases under the label 'Other'. I understand that could seem hasty, but it's easier for the next analyses."
   ]
  },
  {
   "cell_type": "code",
   "execution_count": null,
   "metadata": {},
   "outputs": [],
   "source": [
    "print('Unique values for the gender column:\\n',mental_health_df_raw['gender'].unique())"
   ]
  },
  {
   "cell_type": "code",
   "execution_count": null,
   "metadata": {},
   "outputs": [],
   "source": [
    "# Cleaning the gender column\n",
    "female_list = ['Female', 'female', 'Cis Female', 'F' , 'Woman', 'f', 'Femake' , 'woman', 'Female ', 'cis-female/femme', 'Female (cis)', 'femail' ]\n",
    "male_list = ['M','Male','male', 'm' ,'Male-ish', 'maile', 'Cis Male' , 'Mal', 'Male (CIS)', 'Make', 'Male ', 'Man','msle','Mail' , 'cis male', 'Malr', 'Cis Man' ]\n",
    "other_list = ['Trans-female', 'something kinda male?', 'queer/she/they', 'non-binary', 'Nah', 'All','Enby', 'fluid','Genderqueer', 'Androgyne','Agender', 'Guy (-ish) ^_^','male leaning androgynous', 'Trans woman', 'Neuter','Female (trans)','queer', 'A little about you', 'p', 'ostensibly male, unsure what that really means']\n",
    "\n",
    "mental_health_df_raw.replace(female_list, 'Female', inplace=True)\n",
    "mental_health_df_raw.replace(male_list, 'Male', inplace=True)\n",
    "mental_health_df_raw.replace(other_list, 'Other', inplace=True)"
   ]
  },
  {
   "attachments": {},
   "cell_type": "markdown",
   "metadata": {},
   "source": [
    "Once the cleaning it's done, it can be seen that the male respondents are four times the females one:\n",
    "\n",
    "- when considering some assumptions, recall the fact that the male sample is bigger than the female one. So it can not be said, for instance, that male suffer of mental illnes more than females.\n",
    "\n",
    "- this could mean that the number of men in tech industries is greater than the number of women"
   ]
  },
  {
   "cell_type": "code",
   "execution_count": null,
   "metadata": {},
   "outputs": [],
   "source": [
    "print('Unique values of the gender column after the cleaning \\n', mental_health_df_raw['gender'].unique())\n",
    "print('\\nLabel counts:')\n",
    "print(mental_health_df_raw['gender'].value_counts())"
   ]
  },
  {
   "attachments": {},
   "cell_type": "markdown",
   "metadata": {},
   "source": [
    "- In the *age* column there are many meaningless numbers.\n",
    "\n",
    "- It's possible to see that these numbers are present as uniques values, so i'm going to drop the rows that contain these values.\n",
    "\n",
    "- Furthermore, i select the age range 18-72 as a valid range for working (it's possible to see that 72 is the max age among the reasonable values)"
   ]
  },
  {
   "cell_type": "code",
   "execution_count": null,
   "metadata": {},
   "outputs": [],
   "source": [
    "print('Unique values for the age column:\\n', mental_health_df_raw['age'].unique())\n",
    "print('\\n\\nFirst 10 min and max values for the age column:')\n",
    "print('Max values: ', np.sort(list(mental_health_df_raw['age'].nlargest(10))))\n",
    "print('\\nMin values: ', np.sort(list(mental_health_df_raw['age'].nsmallest(10))))"
   ]
  },
  {
   "cell_type": "code",
   "execution_count": null,
   "metadata": {},
   "outputs": [],
   "source": [
    "# Cleaning the age column\n",
    "mental_health_df_raw.drop(mental_health_df_raw[mental_health_df_raw['age'] < 18].index, inplace= True)\n",
    "mental_health_df_raw.drop(mental_health_df_raw[mental_health_df_raw['age'] > 72].index, inplace= True)"
   ]
  },
  {
   "attachments": {},
   "cell_type": "markdown",
   "metadata": {},
   "source": [
    "Cheking the fairness of the data, we see that:\n",
    "\n",
    "- the avarage age is 32\n",
    "\n",
    "- the age range is from 18 to 72, although 72 is more of an isolated value. Infact from 18 to 65 all the ages are uniformly present. "
   ]
  },
  {
   "cell_type": "code",
   "execution_count": null,
   "metadata": {},
   "outputs": [],
   "source": [
    "print('Unique values of the age column after the cleaning \\n', np.sort(mental_health_df_raw['age'].unique()))\n",
    "print('\\nMin and max age:',mental_health_df_raw['age'].min(),'-',mental_health_df_raw['age'].max() )\n",
    "print('\\nAverage age: ', int(mental_health_df_raw['age'].mean()))"
   ]
  },
  {
   "attachments": {},
   "cell_type": "markdown",
   "metadata": {},
   "source": [
    "The remaining columns for the cleaning are the *self_employed* and *work_interfere* ones.\n",
    "\n",
    "- Given that the most of the respondents aren't self employed and the NaN values are 18, i will substitute the null values with the label 'No'. \n",
    "\n",
    "- In the second case ( *work_interfere* column, that corrispond to the question: *\"If you have a mental health condition, do you feel that it interferes with your work?\"*), there are 262 null values and  the most frequent answer is \"Sometimes\". However, replacing the null values with this label would be misleading for the analysis. Infact it's meaningless to make some kind of avarage in this particular case.\n",
    "\n",
    "- Then, i decided to replace this NaN values with the label \"Don't know\". This answer could enclose both for those people who don't have a mental heatlh condition and who have a mental heatlh condition but don't know id it interferes with the work. We will find a plausible solution in the next analysis."
   ]
  },
  {
   "cell_type": "code",
   "execution_count": null,
   "metadata": {},
   "outputs": [],
   "source": [
    "print('NaN values for the column self_employed: ', mental_health_df_raw['self_employed'].isnull().sum() )\n",
    "print('NaN values for the column work_interfere: ', mental_health_df_raw['work_interfere'].isnull().sum() )\n",
    "\n",
    "print('\\nCounting values for the column self_employed')\n",
    "print(mental_health_df_raw['self_employed'].value_counts())\n",
    "\n",
    "print('\\nCounting values for the column self_employed')\n",
    "print(mental_health_df_raw['work_interfere'].value_counts())"
   ]
  },
  {
   "cell_type": "code",
   "execution_count": null,
   "metadata": {},
   "outputs": [],
   "source": [
    "# Cleaning the self_employed column\n",
    "mental_health_df_raw['self_employed'].fillna(value = 'No', inplace = True)\n",
    "\n",
    "# Cleaning the work_interfere column\n",
    "mental_health_df_raw['work_interfere'].fillna(value = 'Don\\'t know', inplace = True)"
   ]
  },
  {
   "attachments": {},
   "cell_type": "markdown",
   "metadata": {},
   "source": [
    "Checking quickly that there are no more wrong or null values in  the columns (except for already checked columns: age, gender and country)"
   ]
  },
  {
   "cell_type": "code",
   "execution_count": null,
   "metadata": {},
   "outputs": [],
   "source": [
    "for column in mental_health_df_raw.iloc[:, 3:]:\n",
    "    print(column, mental_health_df_raw[column].unique())"
   ]
  },
  {
   "cell_type": "code",
   "execution_count": null,
   "metadata": {},
   "outputs": [],
   "source": [
    "# Reindexing\n",
    "mental_health_df_raw.reset_index(drop=True, inplace=True)"
   ]
  },
  {
   "attachments": {},
   "cell_type": "markdown",
   "metadata": {},
   "source": [
    "The clean dataset"
   ]
  },
  {
   "cell_type": "code",
   "execution_count": null,
   "metadata": {},
   "outputs": [],
   "source": [
    "mental_health_df = mental_health_df_raw.copy()"
   ]
  },
  {
   "cell_type": "code",
   "execution_count": null,
   "metadata": {},
   "outputs": [],
   "source": [
    "mental_health_df.info()"
   ]
  },
  {
   "attachments": {},
   "cell_type": "markdown",
   "metadata": {},
   "source": [
    "## Interesting plots"
   ]
  },
  {
   "attachments": {},
   "cell_type": "markdown",
   "metadata": {},
   "source": [
    "### Utilities"
   ]
  },
  {
   "attachments": {},
   "cell_type": "markdown",
   "metadata": {},
   "source": [
    "This code below contains variable, settings and functions useful for every case."
   ]
  },
  {
   "cell_type": "code",
   "execution_count": null,
   "metadata": {},
   "outputs": [],
   "source": [
    "# Useful data\n",
    "tot_rows = mental_health_df.shape[0]\n",
    "colors = ['steelblue', 'lightblue']\n",
    "\n",
    "# Default settings\n",
    "plt.rcParams['figure.facecolor'] = 'white'\n",
    "plt.rcParams[\"axes.grid\"] = False\n",
    "plt.rcParams[\"axes.spines.top\"] = False\n",
    "plt.rcParams[\"axes.spines.right\"] = False\n",
    "plt.rcParams['axes.linewidth'] = 0.5 \n",
    "plt.rcParams['axes.edgecolor'] = 'black'\n",
    "\n",
    "# Computing percenteges (without *100)\n",
    "def percent(df, row): \n",
    "\tperc = list() \n",
    "\tfor column in df: \n",
    "\t\tvalues = df[column].loc[row] \n",
    "\t\ttotal = df[column].sum() \n",
    "\t\tperc.append((round((values/ total),2))) \n",
    "\treturn perc"
   ]
  },
  {
   "attachments": {},
   "cell_type": "markdown",
   "metadata": {},
   "source": [
    "### Age distribution"
   ]
  },
  {
   "cell_type": "code",
   "execution_count": null,
   "metadata": {},
   "outputs": [],
   "source": [
    "plt.figure(figsize=(10,5))\n",
    "sb.histplot(mental_health_df['age'],kde=True,binwidth=1)\n",
    "plt.title(\"Age distribution\", fontsize= 14, fontweight= 'heavy', color = 'black', y=1.15, pad=10)\n",
    "plt.ylim(0, 90)\n",
    "plt.plot()\n"
   ]
  },
  {
   "attachments": {},
   "cell_type": "markdown",
   "metadata": {},
   "source": [
    "### Country and gender distributions"
   ]
  },
  {
   "cell_type": "code",
   "execution_count": null,
   "metadata": {},
   "outputs": [],
   "source": [
    "# Data\n",
    "eu_l, country2 = new_column(mental_health_df)\n",
    "countries = country2.value_counts().index.to_list()\n",
    "cc = list(country2.value_counts().values)\n",
    "\n",
    "counts_gender = mental_health_df['gender'].value_counts().to_list()\n",
    "labels_gender = mental_health_df['gender'].value_counts().index.to_list()\n",
    "\n",
    "colors = [ \"#8bd3c7\",  \"lightblue\",\"steelblue\", \"#df979e\", ]\n",
    "\n",
    "# Plotting\n",
    "fig2, ax2 = plt.subplots(figsize =(10, 5))\n",
    "fig3, ax3 = plt.subplots(figsize =(10, 5))\n",
    "\n",
    "wedges1, texts1, autotexts1 = ax2.pie(cc, labeldistance=1.15, wedgeprops = { 'linewidth' : 1, 'edgecolor' : 'white' }, \n",
    "        colors = colors , autopct='%1.0f%%', textprops={'fontsize': 12})\n",
    "wedges2, texts2, autotexts2 = ax3.pie(counts_gender, labeldistance=1.15, wedgeprops = { 'linewidth' : 1, 'edgecolor' : 'white' }, \n",
    "        colors = colors , autopct='%1.0f%%', textprops={'fontsize': 12})        \n",
    "\n",
    "ax2.legend(wedges1, countries,\n",
    "          title=\"Countries\",\n",
    "          bbox_to_anchor=(1, 0, 0.5, 1))\n",
    "\n",
    "ax3.legend(wedges2, labels_gender,\n",
    "          title=\"Gender\",\n",
    "          bbox_to_anchor=(1, 0, 0.5, 1))\n",
    "\n",
    "\n",
    "ax2.set_title('Countries distribution', fontsize= 14, fontweight= 'heavy', color = 'black', y=1, pad=10)\n",
    "ax3.set_title('Gender distribution', fontsize= 14, fontweight= 'heavy', color = 'black', y=1, pad=10)\n",
    "plt.show()"
   ]
  },
  {
   "attachments": {},
   "cell_type": "markdown",
   "metadata": {},
   "source": [
    "### Treatment and work interference distributions"
   ]
  },
  {
   "cell_type": "code",
   "execution_count": null,
   "metadata": {},
   "outputs": [],
   "source": [
    "# 1\n",
    "labels_treat = mental_health_df['treatment'].value_counts().index.to_list()               # Yes, No\n",
    "counts_treat = list(map(lambda x: round((x/tot_rows),2), mental_health_df['treatment'].value_counts()))\n",
    "df_treat = pd.DataFrame({'Treatment': labels_treat, 'Counts': mental_health_df['treatment'].value_counts().values})\n",
    "\n",
    "# 2\n",
    "labels_work = mental_health_df['work_interfere'].value_counts().index.to_list()          # 'Sometimes', \"Don't know\", 'Never', 'Rarely', 'Often'\n",
    "counts_work = list(map(lambda x: round((x/tot_rows),2), mental_health_df['work_interfere'].value_counts())) \n",
    "df_work = pd.DataFrame({'Work interference': labels_work, 'Counts': mental_health_df['work_interfere'].value_counts().values})\n",
    "\n",
    "# 3\n",
    "df_treat_work = mental_health_df.groupby(['work_interfere', 'treatment'])['treatment'].count().unstack(0)\n",
    "df_treat_work = df_treat_work.reindex(index = labels_treat, columns = labels_work)\n",
    "yes_ans = list(df_treat_work[:].loc['Yes'].values)\n",
    "no_ans = list(df_treat_work[:].loc['No'].values)\n",
    "\n",
    "\n",
    "# The label locations\n",
    "x = np.arange(len(labels_work))  \n",
    "width = 0.4  # the width of the bars\n",
    "\n",
    "# Plot\n",
    "fig1, (ax1, ax2) = plt.subplots(1,2,figsize =(15, 5))\n",
    "fig2, ax3 = plt.subplots(figsize =(8, 5))\n",
    "ax1.bar(labels_treat, counts_treat, color ='steelblue', label=labels_treat)\n",
    "ax2.bar(labels_work, counts_work, color ='steelblue', label=labels_work)\n",
    "ax3.bar(x - width/2, yes_ans, width, color= 'steelblue', label= 'Yes')\n",
    "ax3.bar(x + width/2, no_ans, width, color= 'lightblue', label ='No')\n",
    "\n",
    "# Labels, ticks \n",
    "ax1.set_xlabel(\"Treatment search\", labelpad= 10.0, fontname=\"Arial\", fontsize=14, fontweight = 'medium')\n",
    "ax2.set_xlabel(\"Work interference\", labelpad= 10.0, fontname=\"Arial\", fontsize=14, fontweight = 'medium')\n",
    "ax3.set_xlabel(\"Work interference\", labelpad= 10.0, fontname=\"Arial\", fontsize=14, fontweight = 'medium')\n",
    "ax1.set_ylabel(\"Percentages\", labelpad= 10.0, fontname=\"Arial\", fontsize=14, fontweight = 'medium')\n",
    "ax2.set_ylabel(\"Percentages\", labelpad= 10.0, fontname=\"Arial\", fontsize=14, fontweight = 'medium')\n",
    "ax3.set_ylabel(\"Counts\", labelpad= 10.0, fontname=\"Arial\", fontsize=14, fontweight = 'medium')\n",
    "ax1.set_yticks(np.arange(0.0,1.1, 0.1))\n",
    "ax2.set_yticks(np.arange(0.0,1.1, 0.1))\n",
    "ax2.set_xticks(list(range(0,5)), labels_work, rotation=30, ha='right')\n",
    "ax3.set_xticks(list(range(0,5)), labels_work, rotation=30, ha='right')\n",
    "\n",
    "# Percenteges\n",
    "for p in ax1.patches:\n",
    "    height = p.get_height()\n",
    "    ax1.annotate(\"{}%\".format(round(height*100)), (p.get_x() + p.get_width() / 2, height+ 0.01), ha='center', fontsize= 14)\n",
    "\n",
    "for p in ax2.patches:\n",
    "    height = p.get_height()\n",
    "    ax2.annotate(\"{}%\".format(round(height*100)), (p.get_x() + p.get_width() / 2, height+ 0.01), ha='center', fontsize= 14)\n",
    "\n",
    "# Title\n",
    "ax1.set_title('Employees who have \\nsought treatment', fontsize= 16, fontweight= 'heavy', color = 'black', y=1.15, pad=10)\n",
    "ax2.set_title('Work interference of the\\n mental health condition', fontsize= 16, fontweight= 'heavy', color = 'black', y=1.15, pad=10)\n",
    "ax3.set_title('Seeking treatment \\nand work interference', fontsize= 16, fontweight= 'heavy', color = 'black', y=1.15, pad=10)\n",
    "\n",
    "# Legend\n",
    "ax3.legend(title = \"Treatment search\", loc = 'upper right', bbox_to_anchor=(0.65, 0.55, 0.5, 0.5))\n",
    "\n",
    "# show\n",
    "plt.tight_layout()\n",
    "plt.show()"
   ]
  },
  {
   "attachments": {},
   "cell_type": "markdown",
   "metadata": {},
   "source": [
    "The **first plot** shows the answers to the question, *\"Have you sought treatment for a mental health condition?\"*\n",
    "\n",
    "- It's inferred that about half of the respondents have sought treatment for a mental health condtion \n",
    "\n",
    "<br>\n",
    "\n",
    "The **second plot** shows respondent's answer to the question, *\"If you have a mental health condition, do you feel that it interferes with your work?\"*.\n",
    "- There is no answer more popular than the others\n",
    "\n",
    "- Remeber that we have replaced the NaN values with 'Don't know'\n",
    "\n",
    "\n",
    "<br>\n",
    "\n",
    "The **third plot** shows counts of people who have sought or not a treatment among each category:\n",
    "\n",
    "- we see that the people who chose *\"Sometimes\"* had the highest number of people who actually have sought a treatment for mental health condition. Similar pattern was shown for the people who belonged to the *\"Often category\"*. Even if the answer was *\"Sometimes\"* (for the reasons stated above), a lot of people still decided to get help.\n",
    "\n",
    "- unexpectedly, for people whose mental health *\"Never\"* has interfered at work, a small percentage still wanted to get treatment. It can be given by a variety of reasons like personal needs, a good capacity of keeping personal life and work spaced out or a preventive gesture.\n",
    "\n",
    "- practically all of the respondent that didn't answer to the question (the *don't know* category) aren't seeking a treatment for mental health condition. So probably these people do not suffer from mental illness. Another assumption is that they could be reticent to search a treatment."
   ]
  },
  {
   "attachments": {},
   "cell_type": "markdown",
   "metadata": {},
   "source": [
    "### Remote working and work interference distributions"
   ]
  },
  {
   "cell_type": "code",
   "execution_count": null,
   "metadata": {},
   "outputs": [],
   "source": [
    "# 1\n",
    "labels_rw = mental_health_df['remote_work'].value_counts().index.to_list()[::-1]               # Yes, No\n",
    "counts_rw = list(map(lambda x: round((x/tot_rows),2), mental_health_df['remote_work'].value_counts().reindex(index= labels_rw)))\n",
    "df_rw = pd.DataFrame({'Remote working': labels_rw, 'Counts': mental_health_df['remote_work'].value_counts().reindex(index= labels_rw).values})\n",
    "\n",
    "# 2\n",
    "labels_work = mental_health_df['work_interfere'].value_counts().index.to_list()          # 'Sometimes', \"Don't know\", 'Never', 'Rarely', 'Often'\n",
    "df_rw_interf = mental_health_df.groupby(['work_interfere', 'remote_work'])['remote_work'].count().unstack(0)\n",
    "df_rw_interf = df_rw_interf.reindex(index = ['Yes', 'No'], columns=labels_work)\n",
    "yes_ans = list(df_rw_interf[:].loc['Yes'].values)\n",
    "no_ans = list(df_rw_interf[:].loc['No'].values)\n",
    "\n",
    "\n",
    "# The label locations\n",
    "x = np.arange(len(labels_work))  \n",
    "width = 0.4  # the width of the bars\n",
    "\n",
    "# Plots\n",
    "fig1, (ax1, ax2) = plt.subplots(1,2,figsize =(13, 5))\n",
    "fig1.subplots_adjust(wspace=0.3)\n",
    "\n",
    "wedges, text, autotext = ax1.pie(counts_rw, labeldistance=1.15, wedgeprops = { 'linewidth' : 1, 'edgecolor' : 'white' }, \n",
    "        colors = colors , autopct='%1.0f%%', textprops={'fontsize': 12})\n",
    "ax2.bar(x - width/2, yes_ans, width, color= 'steelblue', label= 'Yes')\n",
    "ax2.bar(x + width/2, no_ans, width, color= 'lightblue', label ='No')\n",
    "\n",
    "# Labels, ticks \n",
    "ax2.set_xlabel(\"Work interference\", labelpad= 10.0, fontname=\"Arial\", fontsize=11, fontweight = 'medium')\n",
    "ax2.set_ylabel(\"Remote work\", labelpad= 10.0, fontname=\"Arial\", fontsize=11, fontweight = 'medium')\n",
    "ax2.set_xticks(list(range(0,5)), labels_work, rotation=30, ha='right')\n",
    "\n",
    "\n",
    "# Titles\n",
    "ax1.set_title('Working remotely', fontsize= 14, fontweight= 'heavy', color = 'black', y=1.15, pad=10)\n",
    "ax2.set_title('Work interference of mental \\nhealth condition and working type', fontsize= 14, fontweight= 'heavy', color = 'black', y=1.15, pad=10)\n",
    "\n",
    "# Legend\n",
    "ax1.legend(wedges, labels_rw,\n",
    "          title=\"Remote working\", loc = 'upper right',\n",
    "          bbox_to_anchor=(0.60, 0.60, 0.5, 0.5))\n",
    "ax2.legend(title = \"Remote working\", loc = 'upper right', bbox_to_anchor=(0.55, 0.55, 0.5, 0.5))\n",
    "\n",
    "# Show\n",
    "plt.show()"
   ]
  },
  {
   "attachments": {},
   "cell_type": "markdown",
   "metadata": {},
   "source": [
    "The **first plot** shows the answers to the question, *\"Do you work remotely (outside of an office) at least 50% of the time?\"*\n",
    "\n",
    "- the 70% of the interviewed don't work remotely, so we are considering mainly people who suffer of mental health condition and live environment  of the office\n",
    "\n",
    "<br>\n",
    "\n",
    "To better understand if the are correlations between the type of working and the interference of a possible mental health condition with the work, look at the **second plot**:\n",
    "\n",
    "- For every answer, the percentage of people who work in the office is bigger (obviously, given the result of the first plot).\n",
    "\n",
    "- If we compute the percentages of people who work remotly and in the office for every answer, we find roughly the same percentages (about 30% work remotely and the other 70% in the offic), so there are no particular values to be highlighted.\n"
   ]
  },
  {
   "attachments": {},
   "cell_type": "markdown",
   "metadata": {},
   "source": [
    "### Family history and treatment"
   ]
  },
  {
   "cell_type": "code",
   "execution_count": 429,
   "metadata": {},
   "outputs": [
    {
     "data": {
      "image/png": "[encoded data removed]",
      "text/plain": [
       "<Figure size 1300x500 with 2 Axes>"
      ]
     },
     "metadata": {},
     "output_type": "display_data"
    }
   ],
   "source": [
    "# Data\n",
    "# 1\n",
    "labels_ans = list(reversed(mental_health_df['family_history'].value_counts().index.to_list()))                         # Yes, No\n",
    "reverse_serie = mental_health_df['family_history'].value_counts().reindex(index= mental_health_df['family_history'].value_counts().index[::-1])\n",
    "counts_ans = list(map(lambda x: round((x/tot_rows),2), reverse_serie))\n",
    "df_family = pd.DataFrame({'Family history': labels_rw, 'Counts': mental_health_df['family_history'].value_counts().reindex(index= labels_rw).values})\n",
    "\n",
    "# 2\n",
    "df_family_treat = mental_health_df.groupby(['family_history', 'treatment'])['treatment'].count().unstack(0)\n",
    "df_family_treat = df_family_treat.reindex(index= df_family_treat.index[::-1], columns=df_family_treat.columns[::-1])               \n",
    "yes_ans = list(df_family_treat[:].loc['Yes'].values)\n",
    "no_ans = list(df_family_treat[:].loc['No'].values)\n",
    "\n",
    "# The label locations\n",
    "x = np.arange(len(labels_ans))  \n",
    "width = 0.35  \n",
    "\n",
    "# Plots\n",
    "fig1, (ax1, ax2) = plt.subplots(1, 2, figsize =(13, 5))\n",
    "fig1.subplots_adjust(wspace=0.3)\n",
    "\n",
    "wedges, text, autotext = ax1.pie(counts_ans, labels = labels_ans, labeldistance=1.15, wedgeprops = { 'linewidth' : 1, 'edgecolor' : 'white' }, \n",
    "        colors = colors , autopct='%1.0f%%', textprops={'fontsize': 12})\n",
    "ax2.bar(x - width/2, yes_ans, width, color= 'steelblue', label= 'Yes')\n",
    "ax2.bar(x + width/2, no_ans, width, color= 'lightblue', label ='No')\n",
    "\n",
    "# Labels, ticks \n",
    "ax1.legend(wedges, labels_ans,\n",
    "          title=\"Family history\", loc = 'upper right',\n",
    "          bbox_to_anchor=(0.60, 0.60, 0.5, 0.5))\n",
    "ax2.set_xlabel(\"Family history\", labelpad= 13.0, fontname=\"Arial\", fontsize=11, fontweight = 'medium')\n",
    "ax2.set_ylabel(\"Treatment search\", labelpad= 13.0, fontname=\"Arial\", fontsize=11, fontweight = 'medium')\n",
    "ax2.set_xticks(x, labels_ans)\n",
    "\n",
    "# Titles\n",
    "ax1.set_title(\"Family History of the respondents\", fontsize= 13, fontweight= 'heavy', color = 'black', y=1.1, pad=10)\n",
    "ax2.set_title(\"Family History and seeking for treatment\", fontsize= 13, fontweight= 'heavy', color = 'black', y=1.1, pad=10)\n",
    "\n",
    "# Legend\n",
    "ax2.legend(title = \"Treatment search\", loc = 'upper right', bbox_to_anchor=(0.80, 0.60, 0.5, 0.5))\n",
    "\n",
    "# Show\n",
    "plt.show()"
   ]
  },
  {
   "attachments": {},
   "cell_type": "markdown",
   "metadata": {},
   "source": [
    "The **first plot** shows the answer to the question, *\"Do you have a family history of mental illness?\"*.\n",
    "\n",
    "<br>\n",
    "\n",
    "The **second plot** shows the counts of respondents who have sought a treatment, given that they came from a family with or without a history in mental illness.\n",
    "\n",
    "- among who have a family history, the 74 % have sought a treatment while for the ones that don't have a family history, only the 35% have searched treatments.\n",
    "\n",
    "- this means that peoople who have had cases of mental illness in the family pay more attention to this a topic. Infact, when it comes to mental health/brain health, the family history matters."
   ]
  },
  {
   "attachments": {},
   "cell_type": "markdown",
   "metadata": {},
   "source": [
    "### Consequence of discussion of mental and physical health with the employer "
   ]
  },
  {
   "cell_type": "code",
   "execution_count": null,
   "metadata": {},
   "outputs": [],
   "source": [
    "# Data\n",
    "# 1\n",
    "mhc = mental_health_df['mental_health_consequence'].value_counts().reindex(index= mental_health_df['mental_health_consequence'].value_counts().index[::-1])\n",
    "phc = mental_health_df['phys_health_consequence'].value_counts().reindex(index= mental_health_df['phys_health_consequence'].value_counts().index[::-1])\n",
    "\n",
    "labels = mhc.index.to_list()                 \n",
    "counts_mhc = list(map(lambda x: round((x/tot_rows),2), mhc))\n",
    "counts_phc = list(map(lambda x: round((x/tot_rows),2), phc))\n",
    "\n",
    "df_mhc = pd.DataFrame({'Negative consequence of mental health discussion': labels, 'Counts': mhc.values})\n",
    "df_phc = pd.DataFrame({'Negative consequence of physical health discussion': labels, 'Counts': phc.values})\n",
    "  \n",
    "# 2\n",
    "label_vs = mental_health_df['mental_vs_physical'].value_counts().reindex(['Yes', 'Don\\'t know','No']).index.to_list()\n",
    "counts_vs = list(map(lambda x: round((x/tot_rows),2), mental_health_df['mental_vs_physical'].value_counts().reindex(label_vs))) \n",
    "df_vs = pd.DataFrame({'Mental vs Physical': label_vs, 'Counts': mental_health_df['mental_vs_physical'].value_counts().reindex(label_vs).values})\n",
    "\n",
    "# The label locations\n",
    "x = np.arange(len(labels))  \n",
    "width = 0.35  \n",
    "\n",
    "# Plots\n",
    "fig1, (ax1,ax2) = plt.subplots(1,2,figsize =(15, 5))\n",
    "fig1.subplots_adjust(wspace=0.5)\n",
    "\n",
    "ax1.bar(x - width/2, counts_mhc, width, color= 'steelblue', label= 'Mental health')\n",
    "ax1.bar(x + width/2, counts_phc, width, color= 'lightblue', label ='Physical health')\n",
    "ax2.bar(label_vs, counts_vs, color ='steelblue', label=label_vs)\n",
    "\n",
    "\n",
    "# Labels, ticks \n",
    "ax1.set_xlabel(\"Answers\", labelpad= 13.0, fontname=\"Arial\", fontsize=11, fontweight = 'medium')\n",
    "ax1.set_ylabel(\"Percentages\", labelpad= 13.0, fontname=\"Arial\", fontsize=11, fontweight = 'medium')\n",
    "ax2.set_xlabel(\"Answers\", labelpad= 13.0, fontname=\"Arial\", fontsize=11, fontweight = 'medium')\n",
    "ax2.set_ylabel(\"Percentages\", labelpad= 13.0, fontname=\"Arial\", fontsize=11, fontweight = 'medium')\n",
    "ax1.set_xticks(x, labels)\n",
    "ax1.set_yticks(np.arange(0.0, 1.1, 0.1))\n",
    "ax2.set_yticks(np.arange(0.0, 1.1, 0.1))\n",
    "\n",
    "# Percentages\n",
    "for p in ax1.patches:\n",
    "   height = p.get_height() \n",
    "   ax1.annotate(\"{}%\".format(round(height*100)), (p.get_x() + p.get_width() / 2, height+ 0.01), ha='center')\n",
    "\n",
    "for p in ax2.patches:\n",
    "   height = p.get_height() \n",
    "   ax2.annotate(\"{}%\".format(round(height*100)), (p.get_x() + p.get_width() / 2, height+ 0.01), ha='center')\n",
    "\n",
    "# Titles\n",
    "ax1.set_title(\"Negative consequences of discussing of Mental \\nand Physical health with Employer\", fontsize= 13, fontweight= 'heavy', color = 'black', y=1.1, pad=10)\n",
    "ax2.set_title(\"Seriousness of mental and physical illness compared\", fontsize= 13, fontweight= 'heavy', color = 'black', y=1.1, pad=10)\n",
    "\n",
    "# Legend\n",
    "ax1.legend(title = 'Type of health', loc = 'upper right', bbox_to_anchor=(0.65, 0.55, 0.5, 0.5))\n",
    "\n",
    "# Show\n",
    "plt.show()"
   ]
  },
  {
   "attachments": {},
   "cell_type": "markdown",
   "metadata": {},
   "source": [
    "The **first plot** compares the resoponses to these 2 question:\n",
    "1. \"*Do you think that discussing a mental health issue with your employer would have negative consequences?*\"\n",
    "2. \"*Do you think that discussing a physical health issue with your employer would have negative consequences?*\"\n",
    "\n",
    "We see that the about the 74% of respondents don't think that discussing a physical health issue would have negative consequences, while only 39% have the same thought for the mental health.\n",
    "Infact we see that there is more indecision among the respondents for the mental health category.\n",
    "\n",
    "This highlights how differently mental and physical health are seen and treated. Keeping in mind that this survey took place in 2014, we could say that there are still prejudices on mental health issues in our society, because they are \"invisible\" and more complex to undestrand. Often there is a stigma against those who suffer of mental health issues, because they are considered weird and dangerous. All of these reasons may therefore explain how talking about a mental problem with the employer could be a negative action.\n",
    "\n",
    "<br>\n",
    "\n",
    "The **second plot** shows the respondent's answer to the question, *\"Do you feel that your employer takes mental health as seriously as physical health?\"*\n",
    "\n",
    "- this should be a direct way to understand what we tried to infer above\n",
    "\n",
    "- unfortunately plot is not very informative since about the half of the responses were 'I don't know'"
   ]
  },
  {
   "attachments": {},
   "cell_type": "markdown",
   "metadata": {},
   "source": [
    "### Consequence of discussion of mental and physical health with a potential employer in an interview "
   ]
  },
  {
   "cell_type": "code",
   "execution_count": null,
   "metadata": {},
   "outputs": [],
   "source": [
    "# Data\n",
    "# 1\n",
    "mhc_inter = mental_health_df['mental_health_interview'].value_counts().reindex(index= mental_health_df['mental_health_interview'].value_counts().index[::-1])\n",
    "mhc_inter = mental_health_df['phys_health_interview'].value_counts().reindex(index= ['Yes', 'Maybe', 'No'])\n",
    "\n",
    "labels_inter = mhc_inter.index.to_list()                 \n",
    "counts_mhc_inter = list(map(lambda x: round((x/tot_rows),2), mhc_inter))\n",
    "counts_phc_inter = list(map(lambda x: round((x/tot_rows),2), mhc_inter))\n",
    "\n",
    "df_mhc_inter = pd.DataFrame({'Negative consequence of mental health discussion': labels, 'Counts': mhc.values})\n",
    "df_phc_inter = pd.DataFrame({'Negative consequence of physical health discussion': labels, 'Counts': phc.values})\n",
    "  \n",
    "\n",
    "# The label locations\n",
    "x = np.arange(len(labels))  \n",
    "width = 0.35  \n",
    "\n",
    "# Plots\n",
    "fig1, ax1 = plt.subplots(figsize =(10, 5))\n",
    "fig1.subplots_adjust(wspace=0.5)\n",
    "ax1.bar(x - width/2, counts_mhc_inter, width, color= 'steelblue', label= 'Mental health')\n",
    "ax1.bar(x + width/2, counts_phc_inter, width, color= 'lightblue', label ='Physical health')\n",
    "\n",
    "\n",
    "# Labels, ticks \n",
    "ax1.set_xlabel(\"Answers\", labelpad= 13.0, fontname=\"Arial\", fontsize=12, fontweight = 'medium')\n",
    "ax1.set_ylabel(\"Percentages\", labelpad= 13.0, fontname=\"Arial\", fontsize=12, fontweight = 'medium')\n",
    "ax1.set_xticks(x, labels)\n",
    "ax1.set_yticks(np.arange(0.0, 1.1, 0.1))\n",
    "\n",
    "# Percentages\n",
    "for p in ax1.patches:\n",
    "   height = p.get_height() \n",
    "   ax1.annotate(\"{}%\".format(round(height*100)), (p.get_x() + p.get_width() / 2, height+ 0.01), ha='center')\n",
    "\n",
    "# Titles\n",
    "ax1.set_title(\"Negative consequences of discussing of Mental \\nand Physical health with Employer\", fontsize= 13, fontweight= 'heavy', color = 'black', y=1.1, pad=10)\n",
    "\n",
    "# Legend\n",
    "ax1.legend(title = 'Type of health', loc = 'upper right', bbox_to_anchor=(0.65, 0.55, 0.5, 0.5))\n",
    "\n",
    "# Show\n",
    "plt.show()"
   ]
  },
  {
   "cell_type": "code",
   "execution_count": 449,
   "metadata": {},
   "outputs": [
    {
     "data": {
      "text/plain": [
       "Index(['Yes', 'Maybe', 'No'], dtype='object')"
      ]
     },
     "execution_count": 449,
     "metadata": {},
     "output_type": "execute_result"
    }
   ],
   "source": [
    "mental_health_df['mental_health_interview'].value_counts().index[::-1]"
   ]
  },
  {
   "attachments": {},
   "cell_type": "markdown",
   "metadata": {},
   "source": [
    "### Benefits, wellness program and number of employees"
   ]
  },
  {
   "cell_type": "code",
   "execution_count": null,
   "metadata": {},
   "outputs": [],
   "source": [
    "# 1\n",
    "labels_ben = mental_health_df['benefits'].value_counts().index.to_list()               # 'Yes', \"Don't know\", 'No'\n",
    "counts_ben = list(map(lambda x: round((x/tot_rows),2), mental_health_df['benefits'].value_counts()))\n",
    "df_benefits = pd.DataFrame({'Benefits for mental health': labels_ben, 'Counts': mental_health_df['benefits'].value_counts().values})\n",
    "\n",
    "# 2\n",
    "labels_no = [ '1-5', '6-25','26-100',  '100-500' , '500-1000',  'More than 1000']\n",
    "\n",
    "df_no_ben = mental_health_df.groupby(['no_employees', 'benefits'])['benefits'].count().unstack(0)\n",
    "df_no_ben = df_no_ben.reindex(index = labels_ben , columns= labels_no)\n",
    "yes_perc1 = percent(df_no_ben, 'Yes')\n",
    "no_perc1 = percent(df_no_ben, 'Don\\'t know')\n",
    "idk_perc1 = percent(df_no_ben, 'No')\n",
    "\n",
    "# The label locations\n",
    "x = np.arange(len(labels_no))  \n",
    "width = 0.2  # the width of the bars\n",
    "\n",
    "# Plots\n",
    "fig1, (ax1, ax2)= plt.subplots(1, 2, figsize =(17, 5))\n",
    "fig1.subplots_adjust(wspace=0.3)\n",
    "ax1.bar(labels_ben, counts_ben, color ='steelblue', label=labels_ben)\n",
    "ax2.bar(x - 0.2, yes_perc1, width, color= 'steelblue', label= 'Yes')\n",
    "ax2.bar(x, no_perc1, width, color= 'lightblue', label ='No')\n",
    "ax2.bar(x + 0.2, idk_perc1, width, color= 'lightsteelblue', label ='Don\\'t know')\n",
    "\n",
    "# Labels, ticks \n",
    "ax1.set_xlabel(\"Benefits\", labelpad= 30.0, fontname=\"Arial\", fontsize=12, fontweight = 'medium')\n",
    "ax2.set_xlabel(\"Number of employees\", labelpad= 10.0, fontname=\"Arial\", fontsize=12, fontweight = 'medium')\n",
    "ax1.set_ylabel(\"Percentages\", labelpad= 10.0, fontname=\"Arial\", fontsize=12, fontweight = 'medium')\n",
    "ax2.set_ylabel(\"Percentages\", labelpad= 10.0, fontname=\"Arial\", fontsize=12, fontweight = 'medium')\n",
    "ax2.set_xticks(list(range(0,6)), labels_no, rotation = 30, ha='right')\n",
    "ax1.set_yticks(np.arange(0.0,1.1, 0.1))\n",
    "ax2.set_yticks(np.arange(0.0,1.1, 0.1))\n",
    "\n",
    "# Percenteges\n",
    "for p in ax1.patches:\n",
    "    height = p.get_height()\n",
    "    ax1.annotate(\"{}%\".format(round(height*100)), (p.get_x() + p.get_width() / 2, height+ 0.01), ha='center')\n",
    "\n",
    "for p in ax2.patches:\n",
    "    height = p.get_height()\n",
    "    ax2.annotate(\"{}%\".format(round(height*100)), (p.get_x() + p.get_width() / 2, height+ 0.01), ha='center', fontsize=8)\n",
    "\n",
    "# Title\n",
    "ax1.set_title('Commission of mental health benefits', fontsize= 14, fontweight= 'heavy', color = 'black', y=1.15, pad=10)\n",
    "ax2.set_title('Number of employees and commission of mental health benefits', fontsize= 14, fontweight= 'heavy', color = 'black', y=1.15, pad=10)\n",
    "\n",
    "# Legend\n",
    "ax2.legend(title = 'Mental health benefits', loc = 'upper right', bbox_to_anchor=(0.65, 0.60, 0.5, 0.5))\n",
    "\n",
    "# show\n",
    "plt.show()"
   ]
  },
  {
   "cell_type": "code",
   "execution_count": null,
   "metadata": {},
   "outputs": [],
   "source": [
    "# 1\n",
    "labels_well = mental_health_df['wellness_program'].value_counts().reindex(labels_ben).index.to_list()          #'Yes', \"Don't know\", 'No'\n",
    "counts_well = list(map(lambda x: round((x/tot_rows),2), mental_health_df['wellness_program'].value_counts().reindex(labels_well))) \n",
    "df_welness = pd.DataFrame({'Mental health as welness program': labels_well, 'Counts': mental_health_df['wellness_program'].value_counts().reindex(labels_well).values})\n",
    "\n",
    "# 2\n",
    "df_no_well = mental_health_df.groupby(['no_employees', 'wellness_program'])['wellness_program'].count().unstack(0)\n",
    "df_no_well = df_no_well.reindex(index =labels_well , columns= labels_no)\n",
    "yes_perc2 = percent(df_no_well, 'Yes')\n",
    "no_perc2 = percent(df_no_well, 'Don\\'t know')\n",
    "idk_perc2 = percent(df_no_well, 'No')\n",
    "\n",
    "# The label locations\n",
    "x = np.arange(len(labels_no))  \n",
    "width = 0.2  # the width of the bars\n",
    "\n",
    "# Plot\n",
    "fig1, (ax3, ax4)= plt.subplots(1, 2, figsize =(17, 5))\n",
    "fig1.subplots_adjust(wspace=0.3)\n",
    "ax3.bar(labels_well, counts_well, color ='steelblue', label=labels_well)\n",
    "ax4.bar(x - 0.2, yes_perc2, width, color= 'steelblue', label= 'Yes')\n",
    "ax4.bar(x, no_perc2, width, color= 'lightblue', label ='No')\n",
    "ax4.bar(x + 0.2, idk_perc2, width, color= 'lightsteelblue', label ='Don\\'t know')\n",
    "\n",
    "# Labels, ticks \n",
    "ax3.set_ylabel(\"Percentages\", labelpad= 10.0, fontname=\"Arial\", fontsize=12, fontweight = 'medium')\n",
    "ax3.set_ylabel(\"Percentages\", labelpad= 10.0, fontname=\"Arial\", fontsize=12, fontweight = 'medium')\n",
    "ax4.set_xticks(list(range(0,6)), labels_no, rotation = 30, ha='right')\n",
    "ax3.set_yticks(np.arange(0.0,1.1, 0.1))\n",
    "ax4.set_yticks(np.arange(0.0,1.1, 0.1))\n",
    "\n",
    "# Perc\n",
    "for p in ax3.patches:\n",
    "    height = p.get_height()\n",
    "    ax3.annotate(\"{}%\".format(round(height*100)), (p.get_x() + p.get_width() / 2, height+ 0.01), ha='center')\n",
    "\n",
    "for p in ax4.patches:\n",
    "    height = p.get_height()\n",
    "    ax4.annotate(\"{}%\".format(round(height*100)), (p.get_x() + p.get_width() / 2, height+ 0.01), ha='center', fontsize=8)\n",
    "\n",
    "# Titles\n",
    "ax3.set_title('Mental health as part of an employee wellness program', fontsize= 14, fontweight= 'heavy', color = 'black', y=1.15, pad=10)\n",
    "ax4.set_title('Number of employees and Mental health as part of an \\nemployee wellness program', fontsize= 14, fontweight= 'heavy', color = 'black', y=1.10, pad=10)\n",
    "\n",
    "# Legend\n",
    "ax4.legend(title = 'Mental health benefits', loc = 'upper right', bbox_to_anchor=(0.65, 0.60, 0.5, 0.5))\n",
    "\n",
    "# show\n",
    "plt.show()"
   ]
  },
  {
   "attachments": {},
   "cell_type": "markdown",
   "metadata": {},
   "source": [
    "The **first plot** was the respondent's answer to the question, *\"Does your employer provide mental health benefits?\"*\n",
    "\n",
    "- Only the 38% of the respondents said that their employer provided them mental health benefits\n",
    "\n",
    "<br>\n",
    "\n",
    "The **third plot** shows the respondents answer to the question, *\"Has your employer ever discussed mental health as part of an employee wellness program?\"*.\n",
    "\n",
    "- we see that unfortunately around the 67% say that there aren't any wellness programs provided by their company. This data is coherent with what we noted above, and shows that the companies need to increase the focus on mental health.\n",
    "\n",
    "<br>\n",
    "\n",
    "In the **second** and **fourth** plots i compare these 2 attributes with the number of employees of the companies. I preferred plotting the percentages of \"Yes\", \"No\" and \"Don't know\" answers of each range of number of employees,  instead of reporting the counts. Infact, normalizing the output, it's easier to attempt some deductions:\n",
    "\n",
    "- in the second plot, with the increasing of employees, there is an increse of respondents saying that their employer provided them mental health benefits. Simultaneously there is a decrease, from the third label, of respondents saying the contrary (aka: their employer didn't provide them mental health benefits )\n",
    "\n",
    "- in the fourth plot the number of *\"Don't know\"* is pretty high, so it's more diffucult to infer something. However we see that there is about the same trend, so with the increas of employees, the number of people who claim that their company provide wellness programs is higher than the number of people who claim the contrary.\n",
    "\n",
    "*So what do these two graphs mean?* <br>\n",
    "Maybe with the increase in the number of employees, so with bigger company, more emphasis is placed on mental health care. This also makes sense because in smaller companies the climate may be more relaxed, less competitive, and more \"comfortable\" than in large tech companies."
   ]
  },
  {
   "attachments": {},
   "cell_type": "markdown",
   "metadata": {},
   "source": [
    "### Discussing of Mental health issues with coworkers and supervisors"
   ]
  },
  {
   "cell_type": "code",
   "execution_count": 433,
   "metadata": {},
   "outputs": [
    {
     "data": {
      "image/png": "[encoded data removed]",
      "text/plain": [
       "<Figure size 800x500 with 1 Axes>"
      ]
     },
     "metadata": {},
     "output_type": "display_data"
    }
   ],
   "source": [
    "# Data\n",
    "co = mental_health_df['coworkers'].value_counts().reindex(index= mental_health_df['coworkers'].value_counts().index[::-1])\n",
    "sup = mental_health_df['supervisor'].value_counts()\n",
    "\n",
    "labels = co.index.to_list()                 \n",
    "counts_co = list(map(lambda x: round((x/tot_rows),2), co))\n",
    "counts_sup = list(map(lambda x: round((x/tot_rows),2), sup))\n",
    "\n",
    "df_co = pd.DataFrame({'Discussing with coworkers': labels, 'Counts': co.values})\n",
    "df_sup = pd.DataFrame({'Discussing with supervisors': labels, 'Counts': sup.values})\n",
    "  \n",
    "# The label locations\n",
    "x = np.arange(len(labels))  \n",
    "width = 0.35  \n",
    "\n",
    "# Plots\n",
    "fig1, ax1 = plt.subplots(figsize =(8, 5))\n",
    "ax1.bar(x - width/2, counts_co, width, color= 'steelblue', label= 'Coworkers')\n",
    "ax1.bar(x + width/2, counts_sup, width, color= 'lightblue', label ='Supervisor')\n",
    "\n",
    "# Labels, ticks \n",
    "ax1.set_xlabel(\"Answers\", labelpad= 13.0, fontname=\"Arial\", fontsize=11, fontweight = 'medium')\n",
    "ax1.set_ylabel(\"Percentages\", labelpad= 13.0, fontname=\"Arial\", fontsize=11, fontweight = 'medium')\n",
    "ax1.set_xticks(x, labels)\n",
    "ax1.set_yticks(np.arange(0.0, 1.1, 0.1))\n",
    "\n",
    "# Percentages\n",
    "for p in ax1.patches:\n",
    "   height = p.get_height() \n",
    "   ax1.annotate(\"{}%\".format(round(height*100)), (p.get_x() + p.get_width() / 2, height+ 0.01), ha='center')\n",
    "\n",
    "# Titles\n",
    "ax1.set_title(\"Discussing of Mental health issues\\n with coworkers and supervisors\", fontsize= 13, fontweight= 'heavy', color = 'black', y=1.1, pad=10)\n",
    "\n",
    "# Legend\n",
    "ax1.legend(title = 'Type of colleague', loc = 'upper right', bbox_to_anchor=(0.65, 0.55, 0.5, 0.5))\n",
    "\n",
    "# Show\n",
    "plt.tight_layout()\n",
    "plt.show()"
   ]
  },
  {
   "attachments": {},
   "cell_type": "markdown",
   "metadata": {},
   "source": [
    "This is the respondent's answer to the questions:\n",
    "1. *\"Would you be willing to discuss a mental health issue with your coworkers?\"* \n",
    "2. *\"Would you be willing to discuss a mental health issue with your direct supervisor(s)?\"*\n",
    "\n",
    "With this is plot is possibile to compare the responses of the same type of question, but with 2 different subjects. \n",
    "\n",
    "- We see that for the supervisor's question, the majority of individuals answer *\"Yes\", perhaps because the respondents think that the supervisor should know about these problems.   \n",
    "\n",
    "- With colleagues, on the other hand, a more confidential bond is usually established, so the choice to talk about one's problems is more personal. Infact about 62% of the respondents answer that they would like to discuss their issues with some of the coworkers, as it's common to talk about personal problems with some friends and not with other acquaintances.\n"
   ]
  },
  {
   "attachments": {},
   "cell_type": "markdown",
   "metadata": {},
   "source": [
    "### Converting categorical values into integers"
   ]
  },
  {
   "attachments": {},
   "cell_type": "markdown",
   "metadata": {},
   "source": [
    "Here i encode the categorical data, that are pretty much all the data of this dataset, since only the age column contains integers.\n",
    "\n",
    "With the encoding it's possible to draw the heatmap of the dataset. The encoding could have been useful also in the previous analysis, but i preferred to keep the original labels to work more easily.\n",
    "\n",
    "The heatmap is helpful to better understand the correlation of various features."
   ]
  },
  {
   "cell_type": "code",
   "execution_count": null,
   "metadata": {},
   "outputs": [],
   "source": [
    "# Label Encoding the categorical variables\n",
    "def encoding(mental_health_df):\n",
    "    mh_df_econded = mental_health_df.copy()\n",
    "    mh_df_econded.drop(columns= ['country'], inplace= True)\n",
    "\n",
    "    object_cols = ['gender', 'self_employed', 'family_history','treatment', 'work_interfere','no_employees','remote_work','tech_company',\n",
    "    'benefits','care_options', 'wellness_program','seek_help','anonymity','leave','mental_health_consequence','phys_health_consequence',\n",
    "    'coworkers','supervisor', 'mental_health_interview','phys_health_interview','mental_vs_physical','obs_consequence']\n",
    "\n",
    "    label_encoder = LabelEncoder()\n",
    "    for col in object_cols:\n",
    "        label_encoder.fit(mental_health_df[col])\n",
    "        mh_df_econded[col] = label_encoder.transform(mental_health_df[col])\n",
    "    \n",
    "    return  mh_df_econded"
   ]
  },
  {
   "cell_type": "code",
   "execution_count": null,
   "metadata": {},
   "outputs": [],
   "source": [
    "mh_df_econded = encoding(mental_health_df)"
   ]
  },
  {
   "attachments": {},
   "cell_type": "markdown",
   "metadata": {},
   "source": [
    "### Heatmap"
   ]
  },
  {
   "cell_type": "code",
   "execution_count": null,
   "metadata": {},
   "outputs": [],
   "source": [
    "# Compute the correlation matrix\n",
    "corr = mh_df_econded.corr(numeric_only= False)\n",
    "\n",
    "# The mask for lower left triangle \n",
    "mask = np.zeros_like(corr)\n",
    "mask[np.triu_indices_from(mask)] = True\n",
    "\n",
    "fig1, ax1 = plt.subplots( figsize=(20, 16) )\n",
    "\n",
    "# Heatmap\n",
    "sb.heatmap(corr,  cmap = 'YlGnBu', annot = True, fmt=\".3f\", \n",
    "           linewidth=.5, cbar_kws={ 'orientation': 'vertical', 'shrink': 0.7 } , square=True, mask= mask,)\n",
    "# Title\n",
    "ax1.set_title(\"Heat map of the dataset\", fontsize= 22, fontweight= 'heavy', color = 'black', pad= 0.7)\n",
    "\n",
    "plt.show()\n"
   ]
  },
  {
   "attachments": {},
   "cell_type": "markdown",
   "metadata": {},
   "source": [
    "I use this scheme to interpret the values obtain:\n",
    "\n",
    "<img src=\"/Users/emmatosato/Documents/UNI/Magistrale/Programming/Programming_Project/corr_values.png\" alt=\"Correlation values\" style=\"height: 223px; width:522px;\"/>\n",
    "\n",
    "\n",
    "([Source](https://www.ncbi.nlm.nih.gov/pmc/articles/PMC3576830/#:~:text=A%20correlation%20coefficient%20of%20zero,between%20%E2%88%921%20and%20%2B1.))\n",
    "\n"
   ]
  },
  {
   "attachments": {},
   "cell_type": "markdown",
   "metadata": {},
   "source": [
    "There is **moderate positive** correlation between the attributes\n",
    "- *treatment* and *work_interfere* for the reasons we have seen above \n",
    "- *coworkers* and *supervisor* that we can attribute to the similarity of the questions relative to this attributes\n",
    "\n",
    "Then there is **low positive and negative** correlation between several attributes but the majority of the values present a **negligible correlation** "
   ]
  },
  {
   "attachments": {},
   "cell_type": "markdown",
   "metadata": {},
   "source": [
    "### Country and treatment counts"
   ]
  },
  {
   "cell_type": "code",
   "execution_count": null,
   "metadata": {},
   "outputs": [],
   "source": [
    "# Data\n",
    "labels_treat = mental_health_df['treatment'].value_counts().index.to_list()         # Yes, No      \n",
    "\n",
    "mh_country = mental_health_df.copy()\n",
    "l, country2 = new_column(mental_health_df)\n",
    "mh_country.insert (loc= 3, column='country2', value=country2)\n",
    "df_cc = mh_country.groupby(['country2', 'treatment'])['treatment'].count().unstack(0)"
   ]
  },
  {
   "cell_type": "code",
   "execution_count": 442,
   "metadata": {},
   "outputs": [
    {
     "data": {
      "text/html": [
       "<div>\n",
       "<style scoped>\n",
       "    .dataframe tbody tr th:only-of-type {\n",
       "        vertical-align: middle;\n",
       "    }\n",
       "\n",
       "    .dataframe tbody tr th {\n",
       "        vertical-align: top;\n",
       "    }\n",
       "\n",
       "    .dataframe thead th {\n",
       "        text-align: right;\n",
       "    }\n",
       "</style>\n",
       "<table border=\"1\" class=\"dataframe\">\n",
       "  <thead>\n",
       "    <tr style=\"text-align: right;\">\n",
       "      <th>country2</th>\n",
       "      <th>Canada</th>\n",
       "      <th>Europe</th>\n",
       "      <th>Other countries</th>\n",
       "      <th>United States</th>\n",
       "    </tr>\n",
       "    <tr>\n",
       "      <th>treatment</th>\n",
       "      <th></th>\n",
       "      <th></th>\n",
       "      <th></th>\n",
       "      <th></th>\n",
       "    </tr>\n",
       "  </thead>\n",
       "  <tbody>\n",
       "    <tr>\n",
       "      <th>No</th>\n",
       "      <td>35</td>\n",
       "      <td>200</td>\n",
       "      <td>46</td>\n",
       "      <td>338</td>\n",
       "    </tr>\n",
       "    <tr>\n",
       "      <th>Yes</th>\n",
       "      <td>37</td>\n",
       "      <td>157</td>\n",
       "      <td>30</td>\n",
       "      <td>408</td>\n",
       "    </tr>\n",
       "  </tbody>\n",
       "</table>\n",
       "</div>"
      ],
      "text/plain": [
       "country2   Canada  Europe  Other countries  United States\n",
       "treatment                                                \n",
       "No             35     200               46            338\n",
       "Yes            37     157               30            408"
      ]
     },
     "execution_count": 442,
     "metadata": {},
     "output_type": "execute_result"
    }
   ],
   "source": [
    "df_cc"
   ]
  },
  {
   "cell_type": "code",
   "execution_count": null,
   "metadata": {},
   "outputs": [],
   "source": [
    "# Control (True = USA + Canada / False = Eurpe + Other countries)\n",
    "tmp = mental_health_df['country'] == mh_country['country2']\n",
    "print(tmp.value_counts(), '\\n')\n",
    "print(country2.value_counts())"
   ]
  },
  {
   "attachments": {},
   "cell_type": "markdown",
   "metadata": {},
   "source": [
    "## Models"
   ]
  },
  {
   "cell_type": "code",
   "execution_count": null,
   "metadata": {},
   "outputs": [],
   "source": [
    "# Imports \n",
    "from sklearn.model_selection import train_test_split\n",
    "from sklearn.metrics import accuracy_score\n",
    "\n",
    "from sklearn.neural_network import MLPClassifier\n",
    "from sklearn.neighbors import KNeighborsClassifier\n",
    "from sklearn.svm import SVC\n",
    "from sklearn.gaussian_process import GaussianProcessClassifier\n",
    "from sklearn.gaussian_process.kernels import RBF\n",
    "from sklearn.tree import DecisionTreeClassifier\n",
    "from sklearn.ensemble import RandomForestClassifier, AdaBoostClassifier, GradientBoostingClassifier\n",
    "from sklearn.naive_bayes import GaussianNB\n",
    "from sklearn.discriminant_analysis import QuadraticDiscriminantAnalysis\n",
    "\n",
    "from sklearn.metrics import confusion_matrix\n",
    "\n",
    "from sklearn.preprocessing import StandardScaler\n",
    "from sklearn.decomposition import PCA"
   ]
  },
  {
   "attachments": {},
   "cell_type": "markdown",
   "metadata": {},
   "source": [
    "### PCA"
   ]
  },
  {
   "attachments": {},
   "cell_type": "markdown",
   "metadata": {},
   "source": [
    "- PCA is used to decompose a multivariate dataset in a set of successive orthogonal components that explain a maximum amount of the variance. \n",
    "\n",
    "- One of the most broadly used of unsupervised algorithms.\n",
    "\n",
    "- PCA is fundamentally a dimensionality reduction algorithm, but it can also be useful as a tool for visualization, for noise filtering, for feature extraction and engineering, and much more\n",
    "\n",
    "<br>\n",
    "\n",
    "*Source*: Python Data Science Handbook\n",
    "\n",
    "------------------------------------------------------------------------------------------------------------------------------------------------"
   ]
  },
  {
   "attachments": {},
   "cell_type": "markdown",
   "metadata": {},
   "source": [
    "In this case i have a lot of features and i would like to visualize the features that really matters. In this way i can understand if i can find underlying structures of the data."
   ]
  },
  {
   "cell_type": "code",
   "execution_count": null,
   "metadata": {},
   "outputs": [],
   "source": [
    "# Standardize the data to have a mean of ~0 and a variance of 1\n",
    "X = mh_df_econded.drop('treatment', axis=1)\n",
    "X = StandardScaler().fit_transform(X)"
   ]
  },
  {
   "cell_type": "code",
   "execution_count": null,
   "metadata": {},
   "outputs": [],
   "source": [
    "# Create a PCA instance: pca\n",
    "n_components = 20\n",
    "pca = PCA(n_components = n_components)\n",
    "principal_components = pca.fit_transform(X)"
   ]
  },
  {
   "cell_type": "code",
   "execution_count": null,
   "metadata": {},
   "outputs": [],
   "source": [
    "# Plot the explained variances in order to find the optimal number of components\n",
    "features = range(n_components)                                         \n",
    "plt.bar(features, pca.explained_variance_ratio_, color='black')\n",
    "plt.xlabel('PCA features')\n",
    "plt.ylabel('variance %')\n",
    "plt.xticks(features)\n",
    "plt.show()"
   ]
  },
  {
   "attachments": {},
   "cell_type": "markdown",
   "metadata": {},
   "source": [
    "The first three components explain the majority of the variance in our data and i will plot the first two"
   ]
  },
  {
   "cell_type": "code",
   "execution_count": null,
   "metadata": {},
   "outputs": [],
   "source": [
    "# PCA\n",
    "n_components = 2\n",
    "pca = PCA(n_components = n_components)\n",
    "principal_components = pca.fit_transform(X)\n",
    "\n",
    "# Save components to a DataFrame\n",
    "principal_mh_df = pd.DataFrame(principal_components, columns = ['PC_' + str(x + 1) for x in range(n_components)])\n",
    "\n",
    "# Plot without labels\n",
    "plt.figure(figsize=(6,4))\n",
    "targets = [0,1]\n",
    "for target in targets:\n",
    "    target_mask = mh_df_econded['treatment'] == target\n",
    "    plt.scatter(principal_mh_df.loc[target_mask, 'PC_1'], principal_mh_df.loc[target_mask, 'PC_2'],\n",
    "                label=target)\n",
    "    # elementi = 0 ed elementi = 1\n",
    "\n",
    "plt.legend()\n",
    "plt.xlabel('Principal Component 1')\n",
    "plt.ylabel('Principal Component 2')\n",
    "plt.show()\n"
   ]
  },
  {
   "attachments": {},
   "cell_type": "markdown",
   "metadata": {},
   "source": [
    "No clusters identified "
   ]
  },
  {
   "attachments": {},
   "cell_type": "markdown",
   "metadata": {},
   "source": [
    "### Classification - Target: treatment\n",
    "\n"
   ]
  },
  {
   "attachments": {},
   "cell_type": "markdown",
   "metadata": {},
   "source": [
    "I want to find the model which better predict if a person should be treated for a mental health condition according to the values in the dataset. \n",
    "\n",
    "Remeber that searching and being subjected to this type of treatment implies suffering of some kind of mental health disease, but it is also possible that someone have a mental health issue but he didn't search for a treatment, so the response *\"No\"* don't always indicate a healthy individual. By this point of view some labels could be misleading."
   ]
  },
  {
   "cell_type": "code",
   "execution_count": null,
   "metadata": {},
   "outputs": [],
   "source": [
    "# Declare feature vector and target variable\n",
    "X = mh_df_econded.drop('treatment', axis = 1)\n",
    "\n",
    "y = mh_df_econded['treatment']\n",
    "\n",
    "# Split the dataset in training and testing set\n",
    "x_train, x_test, y_train, y_test = train_test_split(X, y, test_size=0.3, random_state=1)"
   ]
  },
  {
   "cell_type": "code",
   "execution_count": null,
   "metadata": {},
   "outputs": [],
   "source": [
    "# Choosing the random state for the Ensemble methods\n",
    "\n",
    "models = [DecisionTreeClassifier(), DecisionTreeClassifier(), AdaBoostClassifier(),GradientBoostingClassifier() ]\n",
    "rnd_states = [1, 23, 42, 15, 56]\n",
    "\n",
    "for model in models:\n",
    "    a = pd.Series(index=rnd_states, dtype= float)\n",
    "    rnd_states_collector =  pd.Series(index=models, dtype= float)\n",
    "    for random_state in rnd_states:\n",
    "        model = model\n",
    "        x_train, x_test, y_train, y_test = train_test_split(X, y, test_size=0.2, random_state=random_state)\n",
    "        model.fit(x_train, y_train)\n",
    "        y_pred = model.predict(x_test)\n",
    "        a.loc[random_state] = accuracy_score(y_pred, y_test)\n",
    "\n",
    "    print('\\nModel: ', model, '\\nAccuracies', '\\n' , a[::])\n",
    "    #rnd_states_collector.loc[model] = a[a  == max(a)].index.values[0]"
   ]
  },
  {
   "cell_type": "code",
   "execution_count": null,
   "metadata": {},
   "outputs": [],
   "source": [
    "names = [\n",
    "    \"Nearest Neighbors\",\n",
    "    \"Linear SVM\",\n",
    "    \"Decision Tree\",\n",
    "    \"Random Forest\",\n",
    "    \"AdaBoost\",\n",
    "    \"Naive Bayes\",\n",
    "    \"Gaussian Naive Bayes \"\n",
    "    \"QDA\"\n",
    "]\n",
    "\n",
    "classifiers = [\n",
    "    KNeighborsClassifier(),\n",
    "    SVC(),\n",
    "    DecisionTreeClassifier(random_state=15),\n",
    "    RandomForestClassifier(random_state=15),\n",
    "    AdaBoostClassifier(random_state=15),\n",
    "    GradientBoostingClassifier(random_state=15),\n",
    "    GaussianNB(),\n",
    "    QuadraticDiscriminantAnalysis()\n",
    "]"
   ]
  },
  {
   "cell_type": "code",
   "execution_count": null,
   "metadata": {},
   "outputs": [],
   "source": [
    "accuracies = pd.Series(index = names, dtype=float)\n",
    "\n",
    "# iterate over classifiers\n",
    "for name, clf in zip(names, classifiers):\n",
    "    model = clf\n",
    "    model.fit(x_train, y_train)\n",
    "    y_pred = model.predict(x_test)\n",
    "    acc = accuracy_score(y_test, y_pred)\n",
    "    accuracies.loc[name] = acc\n",
    "\n",
    "accuracies.sort_values(ascending=True, inplace=True)\n",
    "accuracies_df = pd.DataFrame({'Models':accuracies.index , 'Accuracies':accuracies.values})\n",
    "print(accuracies_df)\n"
   ]
  },
  {
   "cell_type": "code",
   "execution_count": null,
   "metadata": {},
   "outputs": [],
   "source": [
    "plt.figure(figsize = (8,4))\n",
    "ax = sb.barplot(x = accuracies, y = accuracies.index, palette='Blues')\n",
    "plt.title(\"Plotting the Model Accuracies\", fontsize=16, fontweight=\"bold\", pad= 20, x = 0.35)\n",
    "plt.show()"
   ]
  },
  {
   "cell_type": "code",
   "execution_count": null,
   "metadata": {},
   "outputs": [],
   "source": [
    "mh_df_econded.columns"
   ]
  }
 ],
 "metadata": {
  "kernelspec": {
   "display_name": "Python 3",
   "language": "python",
   "name": "python3"
  },
  "language_info": {
   "codemirror_mode": {
    "name": "ipython",
    "version": 3
   },
   "file_extension": ".py",
   "mimetype": "text/x-python",
   "name": "python",
   "nbconvert_exporter": "python",
   "pygments_lexer": "ipython3",
   "version": "3.10.3"
  },
  "orig_nbformat": 4,
  "vscode": {
   "interpreter": {
    "hash": "aee8b7b246df8f9039afb4144a1f6fd8d2ca17a180786b69acc140d282b71a49"
   }
  }
 },
 "nbformat": 4,
 "nbformat_minor": 2
}
